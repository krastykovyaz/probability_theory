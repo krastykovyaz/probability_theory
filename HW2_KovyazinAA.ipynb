{
 "cells": [
  {
   "cell_type": "code",
   "execution_count": 37,
   "metadata": {},
   "outputs": [],
   "source": [
    "import numpy as np \n",
    "from scipy import stats"
   ]
  },
  {
   "cell_type": "code",
   "execution_count": 2,
   "metadata": {},
   "outputs": [],
   "source": [
    "np.random.seed(21) "
   ]
  },
  {
   "cell_type": "markdown",
   "metadata": {},
   "source": [
    "### Упражнение 2"
   ]
  },
  {
   "cell_type": "markdown",
   "metadata": {},
   "source": [
    "#### 1) Cгенерируйте из равномерного распределения"
   ]
  },
  {
   "cell_type": "code",
   "execution_count": 3,
   "metadata": {},
   "outputs": [
    {
     "name": "stdout",
     "output_type": "stream",
     "text": [
      "Истинное значение параметра theta1:  -4.512751191908727\n",
      "Истинное значение параметра theta2:  3.2465417680032598\n"
     ]
    }
   ],
   "source": [
    "# сгенерируйте θ1 из равномерного распределения на [−5, 5]\n",
    "theta1 = np.random.uniform(-5,5)\n",
    "# θ2^2 — из равномерного распределения на [0.5, 10]\n",
    "theta2 = np.random.uniform(0.5, 10)\n",
    "print(\"Истинное значение параметра theta1: \", theta1)\n",
    "print(\"Истинное значение параметра theta2: \", theta2)"
   ]
  },
  {
   "cell_type": "markdown",
   "metadata": {},
   "source": [
    "#### 2) Cгенерируйте выборку из нормального распределения N(θ1,θ2) размера n=10,100,1000,10000;"
   ]
  },
  {
   "cell_type": "code",
   "execution_count": 4,
   "metadata": {},
   "outputs": [],
   "source": [
    "x = np.linspace(theta1, theta2)\n",
    "mean = np.mean(x)\n",
    "sd = np.std(x)\n",
    "sample10 = np.random.normal(mean, sd,size=10)\n",
    "sample100 = np.random.normal(mean, sd,size=100)\n",
    "sample1000 = np.random.normal(mean, sd,size=1000)\n",
    "sample10000 = np.random.normal(mean, sd,size=10000)"
   ]
  },
  {
   "cell_type": "markdown",
   "metadata": {},
   "source": [
    "#### 3) Найдите значения полученных оценок"
   ]
  },
  {
   "cell_type": "code",
   "execution_count": 15,
   "metadata": {},
   "outputs": [],
   "source": [
    "e1 = 1/np.mean(sample10)\n",
    "e2 = 1/np.mean(sample100)\n",
    "e3 = 1/np.mean(sample1000)\n",
    "e4 = 1/np.mean(sample10000)"
   ]
  },
  {
   "cell_type": "markdown",
   "metadata": {},
   "source": [
    "#### 4) Выведите отклонения полученных оценок от параметров θ1 и θ2^2"
   ]
  },
  {
   "cell_type": "code",
   "execution_count": 6,
   "metadata": {},
   "outputs": [
    {
     "name": "stdout",
     "output_type": "stream",
     "text": [
      "Оценки метода максимального правдоподобия:\n",
      "1) n = 10, оценка = -1.7396098432418432, отклонение от истинного значения = 1.1065051312891092\n",
      "2) n = 100, оценка = -2.313711447807705, отклонение от истинного значения = 1.6806067358549712\n",
      "3) n = 1000, оценка = -1.4198886268992434, отклонение от истинного значения = 0.7867839149465095\n",
      "4) n = 10000, оценка = -1.6755584747072962, отклонение от истинного значения = 1.0424537627545623\n"
     ]
    }
   ],
   "source": [
    "print(\"Оценки метода максимального правдоподобия:\")\n",
    "print(\"1) n = 10, оценка = \", e1, \", отклонение от истинного значения = \", np.abs(e1-mean), sep=\"\")\n",
    "print(\"2) n = 100, оценка = \", e2, \", отклонение от истинного значения = \", np.abs(e2-mean), sep=\"\")\n",
    "print(\"3) n = 1000, оценка = \", e3, \", отклонение от истинного значения = \", np.abs(e3-mean), sep=\"\")\n",
    "print(\"4) n = 10000, оценка = \", e4, \", отклонение от истинного значения = \", np.abs(e4-mean), sep=\"\")"
   ]
  },
  {
   "cell_type": "code",
   "execution_count": 7,
   "metadata": {},
   "outputs": [],
   "source": [
    "# c ростом n значение оценки улучшается"
   ]
  },
  {
   "cell_type": "markdown",
   "metadata": {},
   "source": [
    "____"
   ]
  },
  {
   "cell_type": "markdown",
   "metadata": {},
   "source": [
    "#### Посчитать значения оценок максимального правдоподобия, и численно с помощью метода fit() из SciPy"
   ]
  },
  {
   "cell_type": "code",
   "execution_count": 8,
   "metadata": {},
   "outputs": [],
   "source": [
    "from scipy import stats "
   ]
  },
  {
   "cell_type": "code",
   "execution_count": 9,
   "metadata": {},
   "outputs": [],
   "source": [
    "s1 = 1/stats.norm.fit(sample10, floc=0)[1]\n",
    "s2 = 1/stats.norm.fit(sample100, floc=0)[1]\n",
    "s3 = 1/stats.norm.fit(sample100, floc=0)[1]\n",
    "s4 = 1/stats.norm.fit(sample10000, floc=0)[1]"
   ]
  },
  {
   "cell_type": "code",
   "execution_count": 10,
   "metadata": {},
   "outputs": [
    {
     "name": "stdout",
     "output_type": "stream",
     "text": [
      "Оценки метода fit() из ScyPy:\n",
      "1) n = 10, оценка = 0.42894868776527373, отклонение от истинного значения = 1.0620533997180077\n",
      "2) n = 100, оценка = 0.4065816813728685, отклонение от истинного значения = 1.0396863933256024\n",
      "3) n = 1000, оценка = 0.4065816813728685, отклонение от истинного значения = 1.0396863933256024\n",
      "4) n = 10000, оценка = 0.421168313019673, отклонение от истинного значения = 1.054273024972407\n"
     ]
    }
   ],
   "source": [
    "print(\"Оценки метода fit() из ScyPy:\")\n",
    "print(\"1) n = 10, оценка = \", s1, \", отклонение от истинного значения = \", np.abs(s1-mean), sep=\"\")\n",
    "print(\"2) n = 100, оценка = \", s2, \", отклонение от истинного значения = \", np.abs(s2-mean), sep=\"\")\n",
    "print(\"3) n = 1000, оценка = \", s3, \", отклонение от истинного значения = \", np.abs(s3-mean), sep=\"\")\n",
    "print(\"4) n = 10000, оценка = \", s4, \", отклонение от истинного значения = \", np.abs(s4-mean), sep=\"\")"
   ]
  },
  {
   "cell_type": "markdown",
   "metadata": {},
   "source": [
    "### Для расчета задачи №5"
   ]
  },
  {
   "cell_type": "code",
   "execution_count": 22,
   "metadata": {},
   "outputs": [
    {
     "data": {
      "text/plain": [
       "0.910869074482914"
      ]
     },
     "execution_count": 22,
     "metadata": {},
     "output_type": "execute_result"
    }
   ],
   "source": [
    "stats.norm.cdf(1.7) - stats.norm.cdf(-1.7)"
   ]
  },
  {
   "cell_type": "markdown",
   "metadata": {},
   "source": [
    "### Для расчета задачи №6"
   ]
  },
  {
   "cell_type": "code",
   "execution_count": 19,
   "metadata": {},
   "outputs": [
    {
     "data": {
      "text/plain": [
       "0.7611479319100133"
      ]
     },
     "execution_count": 19,
     "metadata": {},
     "output_type": "execute_result"
    }
   ],
   "source": [
    "stats.norm.cdf(0.71)"
   ]
  },
  {
   "cell_type": "markdown",
   "metadata": {},
   "source": [
    "### Для расчета задачи №7"
   ]
  },
  {
   "cell_type": "code",
   "execution_count": 144,
   "metadata": {},
   "outputs": [],
   "source": [
    "res = lambda x: stats.norm.cdf((x) / 70.7) - stats.norm.cdf((-x) / 70.7)"
   ]
  },
  {
   "cell_type": "code",
   "execution_count": 146,
   "metadata": {},
   "outputs": [
    {
     "name": "stdout",
     "output_type": "stream",
     "text": [
      "Разница составила 183 человека\n"
     ]
    }
   ],
   "source": [
    "d = 0\n",
    "while res(d) <= 0.99:\n",
    "    d += 1\n",
    "print(\"Разница составила {} человека\".format(d))"
   ]
  },
  {
   "cell_type": "code",
   "execution_count": null,
   "metadata": {},
   "outputs": [],
   "source": []
  },
  {
   "cell_type": "code",
   "execution_count": null,
   "metadata": {},
   "outputs": [],
   "source": []
  },
  {
   "cell_type": "code",
   "execution_count": null,
   "metadata": {},
   "outputs": [],
   "source": []
  },
  {
   "cell_type": "code",
   "execution_count": null,
   "metadata": {},
   "outputs": [],
   "source": []
  },
  {
   "cell_type": "code",
   "execution_count": null,
   "metadata": {},
   "outputs": [],
   "source": []
  }
 ],
 "metadata": {
  "kernelspec": {
   "display_name": "Python 3",
   "language": "python",
   "name": "python3"
  },
  "language_info": {
   "codemirror_mode": {
    "name": "ipython",
    "version": 3
   },
   "file_extension": ".py",
   "mimetype": "text/x-python",
   "name": "python",
   "nbconvert_exporter": "python",
   "pygments_lexer": "ipython3",
   "version": "3.6.5"
  }
 },
 "nbformat": 4,
 "nbformat_minor": 2
}
