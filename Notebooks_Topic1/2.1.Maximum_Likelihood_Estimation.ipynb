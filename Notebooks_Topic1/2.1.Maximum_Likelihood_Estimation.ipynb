{
 "cells": [
  {
   "cell_type": "markdown",
   "metadata": {},
   "source": [
    "**Задача.** Пусть дана реализация выборки $x_1,\\ldots,x_n$ из экспоненциального распределения $\\operatorname{Exp}(\\theta)$ с неизвестным параметром интенсивности $\\theta>0$. Напомним, что плотность этого распределения имеет следущий вид:\n",
    "$$\n",
    "\t\tf_{\\theta}(u) =\n",
    "\t\t\\begin{cases}\n",
    "\t\t\t\\theta e^{-\\theta u}, & u\\ge0,\\\\\n",
    "\t\t\t0, & u<0.\n",
    "\t\t\\end{cases}\n",
    "$$\n",
    "Постройте оценку максимального правдоподобия для $\\theta$. Проверьте правильность полученной оценки в Python:\n",
    "\n",
    "1) сгенерируйте $\\theta$ из равномерного распределения на  $[1,5]$;  \n",
    "2) сгенерируйте выборку из экспоненциального распределения $\\operatorname{Exp}(\\theta)$ размера  $n=10,100,1\\,000,10\\,000$;   \n",
    "3) найдите значения полученных оценок;  \n",
    "4) выведите отклонения полученных оценок от параметра $\\theta$. Что происходит с ростом $n$?\n"
   ]
  },
  {
   "cell_type": "code",
   "execution_count": 10,
   "metadata": {},
   "outputs": [],
   "source": [
    "import numpy as np\n",
    "from scipy import stats"
   ]
  },
  {
   "cell_type": "code",
   "execution_count": 3,
   "metadata": {},
   "outputs": [],
   "source": [
    "np.random.seed(100) "
   ]
  },
  {
   "cell_type": "markdown",
   "metadata": {},
   "source": [
    "Обратите внимание на то, что в np.random.exponential параметр scale = 1/$\\lambda$."
   ]
  },
  {
   "cell_type": "code",
   "execution_count": 26,
   "metadata": {},
   "outputs": [
    {
     "name": "stdout",
     "output_type": "stream",
     "text": [
      "Истинное значение параметра theta:  3.1736197671638617\n"
     ]
    }
   ],
   "source": [
    "theta = np.random.uniform(1,5)\n",
    "print(\"Истинное значение параметра theta: \", theta)"
   ]
  },
  {
   "cell_type": "code",
   "execution_count": 27,
   "metadata": {},
   "outputs": [],
   "source": [
    "sample1 = np.random.exponential(1/theta,size=10)\n",
    "sample2 = np.random.exponential(1/theta,size=100)\n",
    "sample3 = np.random.exponential(1/theta,size=1000)\n",
    "sample4 = np.random.exponential(1/theta,size=10000)"
   ]
  },
  {
   "cell_type": "code",
   "execution_count": 28,
   "metadata": {},
   "outputs": [],
   "source": [
    "e1 = 1/np.mean(sample1)\n",
    "e2 = 1/np.mean(sample2)\n",
    "e3 = 1/np.mean(sample3)\n",
    "e4 = 1/np.mean(sample4)"
   ]
  },
  {
   "cell_type": "code",
   "execution_count": 29,
   "metadata": {},
   "outputs": [
    {
     "name": "stdout",
     "output_type": "stream",
     "text": [
      "Оценки метода максимального правдоподобия:\n",
      "1) n = 10, оценка = 3.5431471209523857, отклонение от истинного значения = 0.36952735378852397\n",
      "2) n = 100, оценка = 3.14285146376415, отклонение от истинного значения = 0.030768303399711705\n",
      "3) n = 1000, оценка = 3.1397777947765144, отклонение от истинного значения = 0.03384197238734732\n",
      "4) n = 10000, оценка = 3.176459277695443, отклонение от истинного значения = 0.0028395105315812685\n"
     ]
    }
   ],
   "source": [
    "print(\"Оценки метода максимального правдоподобия:\")\n",
    "print(\"1) n = 10, оценка = \", e1, \", отклонение от истинного значения = \", np.abs(e1-theta), sep=\"\")\n",
    "print(\"2) n = 100, оценка = \", e2, \", отклонение от истинного значения = \", np.abs(e2-theta), sep=\"\")\n",
    "print(\"3) n = 1000, оценка = \", e3, \", отклонение от истинного значения = \", np.abs(e3-theta), sep=\"\")\n",
    "print(\"4) n = 10000, оценка = \", e4, \", отклонение от истинного значения = \", np.abs(e4-theta), sep=\"\")"
   ]
  },
  {
   "cell_type": "markdown",
   "metadata": {},
   "source": [
    "Записать решение можно было бы значительно короче:"
   ]
  },
  {
   "cell_type": "code",
   "execution_count": 30,
   "metadata": {},
   "outputs": [],
   "source": [
    "samples = { 10**i: np.random.exponential(1/theta,size=10**i) for i in range(1,8)}"
   ]
  },
  {
   "cell_type": "code",
   "execution_count": 31,
   "metadata": {},
   "outputs": [
    {
     "name": "stdout",
     "output_type": "stream",
     "text": [
      "n = 10, оценка = 5.0674502631459415, отклонение от истинного значения = 1.8938304959820798\n",
      "n = 100, оценка = 3.287897471747719, отклонение от истинного значения = 0.11427770458385744\n",
      "n = 1000, оценка = 3.249273576231429, отклонение от истинного значения = 0.07565380906756713\n",
      "n = 10000, оценка = 3.1580902357052563, отклонение от истинного значения = 0.015529531458605472\n",
      "n = 100000, оценка = 3.179306112452666, отклонение от истинного значения = 0.005686345288804073\n",
      "n = 1000000, оценка = 3.1743722124901903, отклонение от истинного значения = 0.0007524453263285658\n",
      "n = 10000000, оценка = 3.172446676969214, отклонение от истинного значения = 0.0011730901946478411\n"
     ]
    }
   ],
   "source": [
    "for n,sample in samples.items():\n",
    "    e = 1/np.mean(sample)\n",
    "    print(\"n = \",n,\", оценка = \", e, \", отклонение от истинного значения = \", np.abs(e-theta), sep=\"\")"
   ]
  },
  {
   "cell_type": "markdown",
   "metadata": {},
   "source": [
    "____"
   ]
  },
  {
   "cell_type": "markdown",
   "metadata": {},
   "source": [
    "Данную задачу можно было бы решить и с помощью метода **fit()** из **ScyPy**. С помощью данного метода можно (численно) найти оценки максимального правдоподобия формы/сдвига/масштаба для классических распределений. \n",
    "\n",
    "\n",
    "Подробнее: https://docs.scipy.org/doc/scipy/reference/generated/scipy.stats.rv_continuous.fit.html"
   ]
  },
  {
   "cell_type": "code",
   "execution_count": 1,
   "metadata": {},
   "outputs": [],
   "source": [
    "from scipy import stats "
   ]
  },
  {
   "cell_type": "code",
   "execution_count": 33,
   "metadata": {},
   "outputs": [],
   "source": [
    "s1 = 1/stats.expon.fit(sample1, floc=0)[1]\n",
    "s2 = 1/stats.expon.fit(sample2, floc=0)[1]\n",
    "s3 = 1/stats.expon.fit(sample3, floc=0)[1]\n",
    "s4 = 1/stats.expon.fit(sample4, floc=0)[1]"
   ]
  },
  {
   "cell_type": "code",
   "execution_count": 34,
   "metadata": {},
   "outputs": [
    {
     "name": "stdout",
     "output_type": "stream",
     "text": [
      "Оценки метода fit() из ScyPy:\n",
      "1) n = 10, оценка = 3.5431471209523857, отклонение от истинного значения = 0.36952735378852397\n",
      "2) n = 100, оценка = 3.14285146376415, отклонение от истинного значения = 0.030768303399711705\n",
      "3) n = 1000, оценка = 3.1397777947765144, отклонение от истинного значения = 0.03384197238734732\n",
      "4) n = 10000, оценка = 3.176459277695443, отклонение от истинного значения = 0.0028395105315812685\n"
     ]
    }
   ],
   "source": [
    "print(\"Оценки метода fit() из ScyPy:\")\n",
    "print(\"1) n = 10, оценка = \", s1, \", отклонение от истинного значения = \", np.abs(s1-theta), sep=\"\")\n",
    "print(\"2) n = 100, оценка = \", s2, \", отклонение от истинного значения = \", np.abs(s2-theta), sep=\"\")\n",
    "print(\"3) n = 1000, оценка = \", s3, \", отклонение от истинного значения = \", np.abs(s3-theta), sep=\"\")\n",
    "print(\"4) n = 10000, оценка = \", s4, \", отклонение от истинного значения = \", np.abs(s4-theta), sep=\"\")"
   ]
  },
  {
   "cell_type": "code",
   "execution_count": null,
   "metadata": {},
   "outputs": [],
   "source": []
  },
  {
   "cell_type": "code",
   "execution_count": null,
   "metadata": {},
   "outputs": [],
   "source": []
  },
  {
   "cell_type": "code",
   "execution_count": null,
   "metadata": {},
   "outputs": [],
   "source": []
  },
  {
   "cell_type": "code",
   "execution_count": null,
   "metadata": {},
   "outputs": [],
   "source": []
  },
  {
   "cell_type": "code",
   "execution_count": null,
   "metadata": {},
   "outputs": [],
   "source": []
  },
  {
   "cell_type": "code",
   "execution_count": null,
   "metadata": {},
   "outputs": [],
   "source": []
  },
  {
   "cell_type": "code",
   "execution_count": null,
   "metadata": {},
   "outputs": [],
   "source": []
  },
  {
   "cell_type": "code",
   "execution_count": null,
   "metadata": {},
   "outputs": [],
   "source": []
  },
  {
   "cell_type": "code",
   "execution_count": null,
   "metadata": {},
   "outputs": [],
   "source": []
  },
  {
   "cell_type": "code",
   "execution_count": null,
   "metadata": {},
   "outputs": [],
   "source": []
  },
  {
   "cell_type": "code",
   "execution_count": null,
   "metadata": {},
   "outputs": [],
   "source": []
  },
  {
   "cell_type": "code",
   "execution_count": null,
   "metadata": {},
   "outputs": [],
   "source": []
  },
  {
   "cell_type": "code",
   "execution_count": 11,
   "metadata": {},
   "outputs": [
    {
     "data": {
      "text/plain": [
       "0.910869074482914"
      ]
     },
     "execution_count": 11,
     "metadata": {},
     "output_type": "execute_result"
    }
   ],
   "source": [
    "stats.norm.cdf(1.7) - stats.norm.cdf(-1.7)"
   ]
  },
  {
   "cell_type": "code",
   "execution_count": null,
   "metadata": {},
   "outputs": [],
   "source": []
  },
  {
   "cell_type": "code",
   "execution_count": null,
   "metadata": {},
   "outputs": [],
   "source": []
  }
 ],
 "metadata": {
  "kernelspec": {
   "display_name": "Python 3",
   "language": "python",
   "name": "python3"
  },
  "language_info": {
   "codemirror_mode": {
    "name": "ipython",
    "version": 3
   },
   "file_extension": ".py",
   "mimetype": "text/x-python",
   "name": "python",
   "nbconvert_exporter": "python",
   "pygments_lexer": "ipython3",
   "version": "3.6.5"
  }
 },
 "nbformat": 4,
 "nbformat_minor": 2
}
