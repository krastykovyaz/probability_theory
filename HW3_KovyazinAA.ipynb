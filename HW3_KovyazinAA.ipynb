{
 "cells": [
  {
   "cell_type": "markdown",
   "metadata": {},
   "source": [
    "# Доверительные интервалы в нормальной модели"
   ]
  },
  {
   "cell_type": "markdown",
   "metadata": {},
   "source": [
    "**Задача.** Сравнить на выборках размера 50 для $\\mathcal{N}(\\theta,4)$ доверительные интервалы:\n",
    "(1) теоретический, (2) на основе параметрического бутстрэпа, (3) на основе непараметрического бутстрэпа. Сам параметр $\\theta$ сгенерировать из равномерного распределения на $[-5,5]$. "
   ]
  },
  {
   "cell_type": "code",
   "execution_count": 1,
   "metadata": {},
   "outputs": [],
   "source": [
    "import numpy as np # для генерации случайных величин и работы с массивами\n",
    "from scipy import stats # чтобы считать квантили"
   ]
  },
  {
   "cell_type": "code",
   "execution_count": 2,
   "metadata": {},
   "outputs": [],
   "source": [
    "np.random.seed(21) # фиксируем seed"
   ]
  },
  {
   "cell_type": "code",
   "execution_count": 19,
   "metadata": {},
   "outputs": [],
   "source": [
    "# Фиксируем параметры задачи\n",
    "\n",
    "n = 50 # размер выборки \n",
    "alpha = 0.05 # параметр ошибки\n",
    "\n",
    "theta = np.random.uniform(10, 20) # неизвестное среднее нормального распределения\n",
    "sigma = np.random.uniform(1, 2) # известная sigma нормального распределения"
   ]
  },
  {
   "cell_type": "code",
   "execution_count": 20,
   "metadata": {},
   "outputs": [],
   "source": [
    "# Сгенерируем выборку из нужного распределения\n",
    "sample = np.random.normal(theta, sigma, size=n)"
   ]
  },
  {
   "cell_type": "code",
   "execution_count": 21,
   "metadata": {},
   "outputs": [
    {
     "name": "stdout",
     "output_type": "stream",
     "text": [
      "Значение theta равно 13.658679913753602\n"
     ]
    }
   ],
   "source": [
    "print(\"Значение theta равно\",theta)"
   ]
  },
  {
   "cell_type": "markdown",
   "metadata": {},
   "source": [
    "### Теоретический доверительный интервал"
   ]
  },
  {
   "cell_type": "markdown",
   "metadata": {},
   "source": [
    "Напомним, что теоретический доверительный интервал вычисляется следующим образом: \n",
    "\n",
    "$$\n",
    "\\mathbb{P}\\left( \\bar{X} - \\frac{c_{1-\\alpha/2}\\sigma}{\\sqrt{n}} < \\mu < \\bar{X} + \\frac{c_{1-\\alpha/2}\\sigma}{\\sqrt{n}} \\right) = 1-\\alpha,\n",
    "$$\n",
    "где $c_{\\alpha}$ — квантиль распределения $\\mathcal{N}(0,1)$ уровня $\\alpha$."
   ]
  },
  {
   "cell_type": "code",
   "execution_count": 22,
   "metadata": {},
   "outputs": [],
   "source": [
    "# Вычисляем теоретический доверительный интервал\n",
    "\n",
    "CI_Theoretical = [np.mean(sample) - stats.norm.ppf(1-alpha/2)*sigma/np.sqrt(n), np.mean(sample) + stats.norm.ppf(1-alpha/2)*sigma/np.sqrt(n)]"
   ]
  },
  {
   "cell_type": "code",
   "execution_count": 23,
   "metadata": {},
   "outputs": [
    {
     "name": "stdout",
     "output_type": "stream",
     "text": [
      "Теоретический доверительный интервал равен [13.208427030646757, 13.826800429965754]\n"
     ]
    }
   ],
   "source": [
    "print(\"Теоретический доверительный интервал равен\", CI_Theoretical)"
   ]
  },
  {
   "cell_type": "markdown",
   "metadata": {},
   "source": [
    "### Доверительный интервал на основе параметрического бутстрэпа"
   ]
  },
  {
   "cell_type": "code",
   "execution_count": 24,
   "metadata": {},
   "outputs": [],
   "source": [
    "# Параметры для бутстрэпа\n",
    "number_of_bootstrap_samples = 10 # количество бутстрэп-выборок\n",
    "size_of_bootstrap_samples = 20 # размер бутстрэп-выборок"
   ]
  },
  {
   "cell_type": "code",
   "execution_count": 25,
   "metadata": {},
   "outputs": [],
   "source": [
    "# Оцениваем неизвестный параметр theta \n",
    "mean = np.mean(sample) "
   ]
  },
  {
   "cell_type": "code",
   "execution_count": 26,
   "metadata": {},
   "outputs": [],
   "source": [
    "# Генерируем выборку из распределения N(sample_mean, sigma)\n",
    "bootstrap_samples = np.random.normal(mean,sigma,size=[number_of_bootstrap_samples,size_of_bootstrap_samples]) "
   ]
  },
  {
   "cell_type": "code",
   "execution_count": 27,
   "metadata": {},
   "outputs": [],
   "source": [
    "# Считаем среднее для каждой выборки \n",
    "bootstrap_estimates = np.apply_along_axis(np.mean, 1, bootstrap_samples)"
   ]
  },
  {
   "cell_type": "code",
   "execution_count": 28,
   "metadata": {},
   "outputs": [],
   "source": [
    "# Вычисляем параметрический бутстрэп доверительный интервал\n",
    "CI_Bootstrap_Parametric = [np.quantile(bootstrap_estimates,alpha/2), np.quantile(bootstrap_estimates,1-alpha/2)]"
   ]
  },
  {
   "cell_type": "code",
   "execution_count": 29,
   "metadata": {},
   "outputs": [
    {
     "name": "stdout",
     "output_type": "stream",
     "text": [
      "Доверительный интервал на основе парметрического бустрэпа равен [13.00726811007267, 13.99075063396252]\n"
     ]
    }
   ],
   "source": [
    "print(\"Доверительный интервал на основе парметрического бустрэпа равен\", CI_Bootstrap_Parametric)"
   ]
  },
  {
   "cell_type": "markdown",
   "metadata": {},
   "source": [
    "### Доверительный интервал на основе непараметрического бутстрэпа"
   ]
  },
  {
   "cell_type": "code",
   "execution_count": 30,
   "metadata": {},
   "outputs": [],
   "source": [
    "# Будем использовать те же параметры\n",
    "number_of_bootstrap_samples = 10 # количество бутстрэп-выборок\n",
    "size_of_bootstrap_samples = 20 # размер бутстрэп-выборок"
   ]
  },
  {
   "cell_type": "code",
   "execution_count": 31,
   "metadata": {},
   "outputs": [],
   "source": [
    "# Генерируем выборку из распределения N(bootstrap_mean, sigma)\n",
    "bootstrap_samples = np.random.choice(sample,size=[number_of_bootstrap_samples,size_of_bootstrap_samples]) "
   ]
  },
  {
   "cell_type": "code",
   "execution_count": 32,
   "metadata": {},
   "outputs": [],
   "source": [
    "# Считаем среднее для каждой выборки \n",
    "bootstrap_estimates = np.apply_along_axis(np.mean, 1, bootstrap_samples)"
   ]
  },
  {
   "cell_type": "code",
   "execution_count": 33,
   "metadata": {},
   "outputs": [],
   "source": [
    "# Вычисляем непараметрический бутстрэп доверительный интервал\n",
    "CI_Bootstrap_Nonparametric = [np.quantile(bootstrap_estimates,alpha/2), np.quantile(bootstrap_estimates,1-alpha/2)]"
   ]
  },
  {
   "cell_type": "code",
   "execution_count": 34,
   "metadata": {},
   "outputs": [
    {
     "name": "stdout",
     "output_type": "stream",
     "text": [
      "Доверительный интервал на основе (непарметрического) бустрэпа равен [13.283569103665679, 13.95791344100266]\n"
     ]
    }
   ],
   "source": [
    "print(\"Доверительный интервал на основе (непарметрического) бустрэпа равен\", CI_Bootstrap_Nonparametric)"
   ]
  },
  {
   "cell_type": "markdown",
   "metadata": {},
   "source": [
    "### Как сравнить полученные доверительные интервалы? "
   ]
  },
  {
   "cell_type": "markdown",
   "metadata": {},
   "source": [
    "Можно попробовать сравнить длину полученных доверительных интервалов. \n",
    "Будет ли длина хорошей оценкой качества интервалов?"
   ]
  },
  {
   "cell_type": "code",
   "execution_count": 35,
   "metadata": {},
   "outputs": [
    {
     "name": "stdout",
     "output_type": "stream",
     "text": [
      "Длина теоретического доверительного интервала:  0.6183733993189975\n",
      "Длина доверительного интервала на основе парметрического бустрэпа:  0.9834825238898492\n",
      "Длина доверительного интервала на основе непарметрического бустрэпа:  0.6743443373369811\n"
     ]
    }
   ],
   "source": [
    "print(\"Длина теоретического доверительного интервала: \", CI_Theoretical[1]-CI_Theoretical[0])\n",
    "print(\"Длина доверительного интервала на основе парметрического бустрэпа: \", CI_Bootstrap_Parametric[1]-CI_Bootstrap_Parametric[0])\n",
    "print(\"Длина доверительного интервала на основе непарметрического бустрэпа: \", CI_Bootstrap_Nonparametric[1]-CI_Bootstrap_Nonparametric[0])"
   ]
  },
  {
   "cell_type": "markdown",
   "metadata": {},
   "source": [
    "Проверим, с какой частотой истинное значение параметра попадает в данные доверительные интервалы"
   ]
  },
  {
   "cell_type": "code",
   "execution_count": 36,
   "metadata": {},
   "outputs": [],
   "source": [
    "N_samples = 10000 # количество \"экспериентов\" по вычислению доверительных интервалов\n",
    "\n",
    "theoretical = np.zeros(N_samples) # здесь будем хранить результаты для теоретического доверительного интервала\n",
    "parametric_bootstrap = np.zeros(N_samples) # здесь будем хранить результаты для параметрического бутстрэпа \n",
    "nonparametric_bootstrap = np.zeros(N_samples) # здесь будем хранить результаты для непараметрического бутстрэпа "
   ]
  },
  {
   "cell_type": "code",
   "execution_count": 37,
   "metadata": {},
   "outputs": [],
   "source": [
    "# Вычисляем теоретический доверительный интервал\n",
    "\n",
    "def Theoretical(sample,alpha):\n",
    "    n = len(sample)\n",
    "    mean = np.mean(sample)\n",
    "    return [mean - stats.norm.ppf(1-alpha/2)*sigma/np.sqrt(n), mean + stats.norm.ppf(1-alpha/2)*sigma/np.sqrt(n)]"
   ]
  },
  {
   "cell_type": "code",
   "execution_count": 38,
   "metadata": {},
   "outputs": [],
   "source": [
    "# Вычисляем доверительный интервал на основе параметрического бутстрэпа\n",
    "\n",
    "def Parametric_bootstrap(sample,alpha,number_of_bootstrap_samples,size_of_bootstrap_samples):\n",
    "    n = len(sample)\n",
    "    mean = np.mean(sample)\n",
    "    bootstrap_samples = np.random.normal(mean,sigma,size=[number_of_bootstrap_samples,size_of_bootstrap_samples]) \n",
    "    bootstrap_estimates = np.apply_along_axis(np.mean, 1, bootstrap_samples)\n",
    "    return [np.quantile(bootstrap_estimates,alpha/2), np.quantile(bootstrap_estimates,1-alpha/2)]"
   ]
  },
  {
   "cell_type": "code",
   "execution_count": 39,
   "metadata": {},
   "outputs": [],
   "source": [
    "# Вычисляем доверительный интервал на основе непараметрического бутстрэпа\n",
    "\n",
    "def Nonparametric_bootstrap(sample,alpha,number_of_bootstrap_samples,size_of_bootstrap_samples):\n",
    "    bootstrap_samples = np.random.choice(sample,size=[number_of_bootstrap_samples,size_of_bootstrap_samples]) \n",
    "    bootstrap_estimates = np.apply_along_axis(np.mean, 1, bootstrap_samples)\n",
    "    return [np.quantile(bootstrap_estimates,alpha/2), np.quantile(bootstrap_estimates,1-alpha/2)]"
   ]
  },
  {
   "cell_type": "code",
   "execution_count": 54,
   "metadata": {},
   "outputs": [],
   "source": [
    "# для расчета среднего интервала:\n",
    "theoretical_delta = 0 \n",
    "parametric_bootstrap_delta = 0\n",
    "nonparametric_bootstrap_delta = 0\n",
    "# Проведем N_samples экспериментов\n",
    "for i in range(N_samples):\n",
    "    sample = np.random.normal(theta, sigma, size=n)\n",
    "    # теоретические интервалы\n",
    "    CI_Theoretical = Theoretical(sample,alpha)\n",
    "    theoretical[i] = (theta >= CI_Theoretical[0]) and (theta <= CI_Theoretical[1])\n",
    "    theoretical_delta += CI_Theoretical[1] - CI_Theoretical[0]\n",
    "    \n",
    "    CI_parametric_bootstrap = Parametric_bootstrap(sample,alpha,number_of_bootstrap_samples,size_of_bootstrap_samples)\n",
    "    parametric_bootstrap[i] = (theta >= CI_parametric_bootstrap[0]) and (theta <= CI_parametric_bootstrap[1])\n",
    "    parametric_bootstrap_delta += CI_parametric_bootstrap[1] - CI_parametric_bootstrap[0]\n",
    "    \n",
    "    CI_nonparametric_bootstrap = Nonparametric_bootstrap(sample,alpha,number_of_bootstrap_samples,size_of_bootstrap_samples)\n",
    "    nonparametric_bootstrap[i] = (theta >= CI_nonparametric_bootstrap[0]) and (theta <= CI_nonparametric_bootstrap[1])\n",
    "    nonparametric_bootstrap_delta += (CI_nonparametric_bootstrap[1] - CI_nonparametric_bootstrap[0])\n",
    "# оценка интеревалов\n",
    "mean_theoretical_delta = theoretical_delta / N_samples\n",
    "mean_parametric_bootstrap_delta = parametric_bootstrap_delta / N_samples\n",
    "mean_nonparametric_bootstrap_delta = nonparametric_bootstrap_delta / N_samples"
   ]
  },
  {
   "cell_type": "code",
   "execution_count": 55,
   "metadata": {},
   "outputs": [
    {
     "name": "stdout",
     "output_type": "stream",
     "text": [
      "Частота попадания истинного параметра в доверительный интервал:\n",
      "- для теоретического доверительного интервала  0.9448\n",
      "- для параметрического бутстрэп доверительного интервала  0.9141\n",
      "- для непараметрического бутстрэп доверительного интервала  0.9095\n",
      "Cредняя длина доверительных интервалов:\n",
      "- для теоретического доверительного интервала  0.6183733993190701\n",
      "- для параметрического бутстрэп доверительного интервала  0.7038358285857201\n",
      "- для непараметрического бутстрэп доверительного интервала  0.6951249877783993\n"
     ]
    }
   ],
   "source": [
    "print(\"Частота попадания истинного параметра в доверительный интервал:\")\n",
    "print(\"- для теоретического доверительного интервала \", np.mean(theoretical))\n",
    "print(\"- для параметрического бутстрэп доверительного интервала \", np.mean(parametric_bootstrap))\n",
    "print(\"- для непараметрического бутстрэп доверительного интервала \", np.mean(nonparametric_bootstrap))\n",
    "print(\"Cредняя длина доверительных интервалов:\")\n",
    "print(\"- для теоретического доверительного интервала \", mean_theoretical_delta)\n",
    "print(\"- для параметрического бутстрэп доверительного интервала \", mean_parametric_bootstrap_delta)\n",
    "print(\"- для непараметрического бутстрэп доверительного интервала \", mean_nonparametric_bootstrap_delta)"
   ]
  }
 ],
 "metadata": {
  "kernelspec": {
   "display_name": "Python 3",
   "language": "python",
   "name": "python3"
  },
  "language_info": {
   "codemirror_mode": {
    "name": "ipython",
    "version": 3
   },
   "file_extension": ".py",
   "mimetype": "text/x-python",
   "name": "python",
   "nbconvert_exporter": "python",
   "pygments_lexer": "ipython3",
   "version": "3.6.5"
  }
 },
 "nbformat": 4,
 "nbformat_minor": 2
}
