{
 "cells": [
  {
   "cell_type": "markdown",
   "metadata": {},
   "source": [
    "## Линейная регрессия"
   ]
  },
  {
   "cell_type": "markdown",
   "metadata": {},
   "source": [
    "Давайте посмотрим, как строить линейную регрессию и анализировать ее качество."
   ]
  },
  {
   "cell_type": "code",
   "execution_count": 3,
   "metadata": {},
   "outputs": [],
   "source": [
    "# Как обычно, начнем с импорта стандартных библиотек\n",
    "import numpy as np\n",
    "import pandas as pd\n",
    "from scipy import stats\n",
    "\n",
    "import seaborn as sns\n",
    "import matplotlib.pyplot as plt\n",
    "from statsmodels.graphics.gofplots import qqplot \n",
    "%matplotlib inline"
   ]
  },
  {
   "cell_type": "code",
   "execution_count": 4,
   "metadata": {},
   "outputs": [],
   "source": [
    "# и библиотек, которые понадобятся для построения ленейной регрессии\n",
    "import statsmodels.formula.api as smf\n",
    "import statsmodels.stats.api as sms\n",
    "from statsmodels.graphics.regressionplots import plot_leverage_resid2"
   ]
  },
  {
   "cell_type": "markdown",
   "metadata": {},
   "source": [
    "**Задача.** В файле **beauty.csv** содержаться следующие данные о $n=1260$ опрошенных: \n",
    "\n",
    "- **wage** — заработная плата (долларов в час);\n",
    "- **exper** —  опыт работы (лет);\n",
    "- **union** — членство в профсоюзе (да/нет);\n",
    "- **goodhlth** — состояние здоровья (хорошее/плохое);\n",
    "- **black** — цвет кожи (белый/чёрный);\n",
    "- **female** — пол (женский/мужской);\n",
    "- **married** — семейное положение (в браке/не в браке);\n",
    "- **service** — занятость в сфере обслуживания (да/нет);\n",
    "- **educ** — образование (лет);\n",
    "- **looks** — внешняя привлекательность (в баллах от 1 до 5).\n",
    "  \n",
    "\n",
    "Требуется оценить влияние внешней привлекательности на уровень заработной планы с учётом всех остальных факторов."
   ]
  },
  {
   "cell_type": "code",
   "execution_count": 5,
   "metadata": {},
   "outputs": [],
   "source": [
    "# импортируем данные\n",
    "\n",
    "data = pd.read_csv(\"data/beauty.csv\", sep=\";\", index_col=False) "
   ]
  },
  {
   "cell_type": "markdown",
   "metadata": {},
   "source": [
    "### Предварительный анализ данных"
   ]
  },
  {
   "cell_type": "code",
   "execution_count": 6,
   "metadata": {},
   "outputs": [
    {
     "data": {
      "text/html": [
       "<div>\n",
       "<style scoped>\n",
       "    .dataframe tbody tr th:only-of-type {\n",
       "        vertical-align: middle;\n",
       "    }\n",
       "\n",
       "    .dataframe tbody tr th {\n",
       "        vertical-align: top;\n",
       "    }\n",
       "\n",
       "    .dataframe thead th {\n",
       "        text-align: right;\n",
       "    }\n",
       "</style>\n",
       "<table border=\"1\" class=\"dataframe\">\n",
       "  <thead>\n",
       "    <tr style=\"text-align: right;\">\n",
       "      <th></th>\n",
       "      <th>wage</th>\n",
       "      <th>exper</th>\n",
       "      <th>union</th>\n",
       "      <th>goodhlth</th>\n",
       "      <th>black</th>\n",
       "      <th>female</th>\n",
       "      <th>married</th>\n",
       "      <th>service</th>\n",
       "      <th>educ</th>\n",
       "      <th>looks</th>\n",
       "    </tr>\n",
       "  </thead>\n",
       "  <tbody>\n",
       "    <tr>\n",
       "      <th>0</th>\n",
       "      <td>5.73</td>\n",
       "      <td>30</td>\n",
       "      <td>0</td>\n",
       "      <td>1</td>\n",
       "      <td>0</td>\n",
       "      <td>1</td>\n",
       "      <td>1</td>\n",
       "      <td>1</td>\n",
       "      <td>14</td>\n",
       "      <td>4</td>\n",
       "    </tr>\n",
       "    <tr>\n",
       "      <th>1</th>\n",
       "      <td>4.28</td>\n",
       "      <td>28</td>\n",
       "      <td>0</td>\n",
       "      <td>1</td>\n",
       "      <td>0</td>\n",
       "      <td>1</td>\n",
       "      <td>1</td>\n",
       "      <td>0</td>\n",
       "      <td>12</td>\n",
       "      <td>3</td>\n",
       "    </tr>\n",
       "    <tr>\n",
       "      <th>2</th>\n",
       "      <td>7.96</td>\n",
       "      <td>35</td>\n",
       "      <td>0</td>\n",
       "      <td>1</td>\n",
       "      <td>0</td>\n",
       "      <td>1</td>\n",
       "      <td>0</td>\n",
       "      <td>0</td>\n",
       "      <td>10</td>\n",
       "      <td>4</td>\n",
       "    </tr>\n",
       "    <tr>\n",
       "      <th>3</th>\n",
       "      <td>11.57</td>\n",
       "      <td>38</td>\n",
       "      <td>0</td>\n",
       "      <td>1</td>\n",
       "      <td>0</td>\n",
       "      <td>0</td>\n",
       "      <td>1</td>\n",
       "      <td>1</td>\n",
       "      <td>16</td>\n",
       "      <td>3</td>\n",
       "    </tr>\n",
       "    <tr>\n",
       "      <th>4</th>\n",
       "      <td>11.42</td>\n",
       "      <td>27</td>\n",
       "      <td>0</td>\n",
       "      <td>1</td>\n",
       "      <td>0</td>\n",
       "      <td>0</td>\n",
       "      <td>1</td>\n",
       "      <td>0</td>\n",
       "      <td>16</td>\n",
       "      <td>3</td>\n",
       "    </tr>\n",
       "  </tbody>\n",
       "</table>\n",
       "</div>"
      ],
      "text/plain": [
       "    wage  exper  union  goodhlth  black  female  married  service  educ  looks\n",
       "0   5.73     30      0         1      0       1        1        1    14      4\n",
       "1   4.28     28      0         1      0       1        1        0    12      3\n",
       "2   7.96     35      0         1      0       1        0        0    10      4\n",
       "3  11.57     38      0         1      0       0        1        1    16      3\n",
       "4  11.42     27      0         1      0       0        1        0    16      3"
      ]
     },
     "execution_count": 6,
     "metadata": {},
     "output_type": "execute_result"
    }
   ],
   "source": [
    "# сначала посмотрим на данные\n",
    "\n",
    "data.head()"
   ]
  },
  {
   "cell_type": "code",
   "execution_count": 7,
   "metadata": {},
   "outputs": [
    {
     "name": "stderr",
     "output_type": "stream",
     "text": [
      "/Users/a19028558/Desktop/transfer_accounts/akovyaz/learning_myself/env_school/lib/python3.8/site-packages/pandas/plotting/_matplotlib/tools.py:400: MatplotlibDeprecationWarning: \n",
      "The is_first_col function was deprecated in Matplotlib 3.4 and will be removed two minor releases later. Use ax.get_subplotspec().is_first_col() instead.\n",
      "  if ax.is_first_col():\n"
     ]
    },
    {
     "data": {
      "image/png": "[encoded data removed]",
      "text/plain": [
       "<Figure size 1296x1296 with 16 Axes>"
      ]
     },
     "metadata": {
      "needs_background": "light"
     },
     "output_type": "display_data"
    }
   ],
   "source": [
    "# для количественных признаков выведем матрицу диаграмм рассеяния\n",
    "\n",
    "pd.plotting.scatter_matrix(data[['wage', 'exper', 'educ', 'looks']], figsize=(18, 18), alpha=0.7)\n",
    "plt.show()"
   ]
  },
  {
   "cell_type": "code",
   "execution_count": 8,
   "metadata": {},
   "outputs": [
    {
     "data": {
      "image/png": "[encoded data removed]",
      "text/plain": [
       "<Figure size 1152x432 with 2 Axes>"
      ]
     },
     "metadata": {
      "needs_background": "light"
     },
     "output_type": "display_data"
    }
   ],
   "source": [
    "# и посмотрим еще на выборочную корреляционную матрицу\n",
    "\n",
    "plt.figure(figsize = (16,6))\n",
    "ax = sns.heatmap(data[['wage', 'exper', 'educ', 'looks']].corr(method = 'spearman'), annot = True)\n",
    "\n",
    "# подправим вывод\n",
    "bottom, top = ax.get_ylim()\n",
    "ax.set_ylim(bottom + 0.5, top - 0.5)\n",
    "#####\n",
    "\n",
    "plt.show()"
   ]
  },
  {
   "cell_type": "code",
   "execution_count": 10,
   "metadata": {},
   "outputs": [
    {
     "name": "stdout",
     "output_type": "stream",
     "text": [
      "0    917\n",
      "1    343\n",
      "Name: union, dtype: int64\n",
      "1    1176\n",
      "0      84\n",
      "Name: goodhlth, dtype: int64\n",
      "0    1167\n",
      "1      93\n",
      "Name: black, dtype: int64\n",
      "0    824\n",
      "1    436\n",
      "Name: female, dtype: int64\n",
      "1    871\n",
      "0    389\n",
      "Name: married, dtype: int64\n",
      "0    915\n",
      "1    345\n",
      "Name: service, dtype: int64\n"
     ]
    }
   ],
   "source": [
    "# а для бинарных признаков просто оценим сбалансированность\n",
    "\n",
    "print(data.union.value_counts())\n",
    "print(data.goodhlth.value_counts())\n",
    "print(data.black.value_counts())\n",
    "print(data.female.value_counts())\n",
    "print(data.married.value_counts())\n",
    "print(data.service.value_counts())"
   ]
  },
  {
   "cell_type": "markdown",
   "metadata": {},
   "source": [
    "### Предварительная обработка данных"
   ]
  },
  {
   "cell_type": "markdown",
   "metadata": {},
   "source": [
    "Еще раз посмотрим на целевой признак — уровень заработной платы. "
   ]
  },
  {
   "cell_type": "code",
   "execution_count": 11,
   "metadata": {},
   "outputs": [
    {
     "data": {
      "image/png": "[encoded data removed]",
      "text/plain": [
       "<Figure size 720x504 with 1 Axes>"
      ]
     },
     "metadata": {
      "needs_background": "light"
     },
     "output_type": "display_data"
    }
   ],
   "source": [
    "data['wage'].hist(figsize=(10,7), grid=False)\n",
    "plt.show()"
   ]
  },
  {
   "cell_type": "markdown",
   "metadata": {},
   "source": [
    "Один человек в выборке получает больше $70\\$$ в час, остальные — меньше $50\\$$ в час. Это очевидный выброс. Такое наблюдение лучше удалить из выборки, так как иначе регрессия \"подстроится\" под это наблюдение и будет хуже работать на \"типичных\" данных. "
   ]
  },
  {
   "cell_type": "code",
   "execution_count": 12,
   "metadata": {},
   "outputs": [
    {
     "data": {
      "text/html": [
       "<div>\n",
       "<style scoped>\n",
       "    .dataframe tbody tr th:only-of-type {\n",
       "        vertical-align: middle;\n",
       "    }\n",
       "\n",
       "    .dataframe tbody tr th {\n",
       "        vertical-align: top;\n",
       "    }\n",
       "\n",
       "    .dataframe thead th {\n",
       "        text-align: right;\n",
       "    }\n",
       "</style>\n",
       "<table border=\"1\" class=\"dataframe\">\n",
       "  <thead>\n",
       "    <tr style=\"text-align: right;\">\n",
       "      <th></th>\n",
       "      <th>wage</th>\n",
       "      <th>exper</th>\n",
       "      <th>union</th>\n",
       "      <th>goodhlth</th>\n",
       "      <th>black</th>\n",
       "      <th>female</th>\n",
       "      <th>married</th>\n",
       "      <th>service</th>\n",
       "      <th>educ</th>\n",
       "      <th>looks</th>\n",
       "    </tr>\n",
       "  </thead>\n",
       "  <tbody>\n",
       "    <tr>\n",
       "      <th>602</th>\n",
       "      <td>77.72</td>\n",
       "      <td>9</td>\n",
       "      <td>1</td>\n",
       "      <td>1</td>\n",
       "      <td>1</td>\n",
       "      <td>1</td>\n",
       "      <td>1</td>\n",
       "      <td>1</td>\n",
       "      <td>13</td>\n",
       "      <td>4</td>\n",
       "    </tr>\n",
       "  </tbody>\n",
       "</table>\n",
       "</div>"
      ],
      "text/plain": [
       "      wage  exper  union  goodhlth  black  female  married  service  educ  \\\n",
       "602  77.72      9      1         1      1       1        1        1    13   \n",
       "\n",
       "     looks  \n",
       "602      4  "
      ]
     },
     "execution_count": 12,
     "metadata": {},
     "output_type": "execute_result"
    }
   ],
   "source": [
    "data[data['wage'] > 70]"
   ]
  },
  {
   "cell_type": "code",
   "execution_count": 14,
   "metadata": {},
   "outputs": [],
   "source": [
    "data = data[data['wage'] < 70]"
   ]
  },
  {
   "cell_type": "markdown",
   "metadata": {},
   "source": [
    "Посмотрим еще на признак, которых характеризует привлекательность опрошенных. "
   ]
  },
  {
   "cell_type": "code",
   "execution_count": 15,
   "metadata": {},
   "outputs": [
    {
     "data": {
      "image/png": "[encoded data removed]",
      "text/plain": [
       "<Figure size 504x288 with 1 Axes>"
      ]
     },
     "metadata": {
      "needs_background": "light"
     },
     "output_type": "display_data"
    }
   ],
   "source": [
    "data['looks'].hist(figsize=(7,4), grid=False, bins = 5)\n",
    "plt.show()"
   ]
  },
  {
   "cell_type": "code",
   "execution_count": 16,
   "metadata": {
    "scrolled": true
   },
   "outputs": [
    {
     "name": "stdout",
     "output_type": "stream",
     "text": [
      "3    722\n",
      "4    363\n",
      "2    142\n",
      "5     19\n",
      "1     13\n",
      "Name: looks, dtype: int64\n"
     ]
    }
   ],
   "source": [
    "print(data['looks'].value_counts())"
   ]
  },
  {
   "cell_type": "markdown",
   "metadata": {},
   "source": [
    "Видим, что незначительная часть опрошенных получили 1 или 5 баллов за привлекательность. И при этом много опрошенных оказались \"средне\" привлекательными — получили 3 балла. Так как нам нужно понять, влияет ли привлекательность на уровень заработной платы, заменим признак looks на два бинарных: привлекательность ниже среднего (1 или 2 балла) и  привлекательность выше среднего (4 или 5 баллов)."
   ]
  },
  {
   "cell_type": "code",
   "execution_count": 18,
   "metadata": {},
   "outputs": [],
   "source": [
    "data['belowavg'] = data['looks'].apply(lambda x: 1 if x < 3 else 0)\n",
    "data['aboveavg'] = data['looks'].apply(lambda x: 1 if x > 3 else 0)\n",
    "data.drop('looks', axis=1, inplace=True)"
   ]
  },
  {
   "cell_type": "code",
   "execution_count": 19,
   "metadata": {},
   "outputs": [
    {
     "data": {
      "text/html": [
       "<div>\n",
       "<style scoped>\n",
       "    .dataframe tbody tr th:only-of-type {\n",
       "        vertical-align: middle;\n",
       "    }\n",
       "\n",
       "    .dataframe tbody tr th {\n",
       "        vertical-align: top;\n",
       "    }\n",
       "\n",
       "    .dataframe thead th {\n",
       "        text-align: right;\n",
       "    }\n",
       "</style>\n",
       "<table border=\"1\" class=\"dataframe\">\n",
       "  <thead>\n",
       "    <tr style=\"text-align: right;\">\n",
       "      <th></th>\n",
       "      <th>wage</th>\n",
       "      <th>exper</th>\n",
       "      <th>union</th>\n",
       "      <th>goodhlth</th>\n",
       "      <th>black</th>\n",
       "      <th>female</th>\n",
       "      <th>married</th>\n",
       "      <th>service</th>\n",
       "      <th>educ</th>\n",
       "      <th>belowavg</th>\n",
       "      <th>aboveavg</th>\n",
       "    </tr>\n",
       "  </thead>\n",
       "  <tbody>\n",
       "    <tr>\n",
       "      <th>0</th>\n",
       "      <td>5.73</td>\n",
       "      <td>30</td>\n",
       "      <td>0</td>\n",
       "      <td>1</td>\n",
       "      <td>0</td>\n",
       "      <td>1</td>\n",
       "      <td>1</td>\n",
       "      <td>1</td>\n",
       "      <td>14</td>\n",
       "      <td>0</td>\n",
       "      <td>1</td>\n",
       "    </tr>\n",
       "    <tr>\n",
       "      <th>1</th>\n",
       "      <td>4.28</td>\n",
       "      <td>28</td>\n",
       "      <td>0</td>\n",
       "      <td>1</td>\n",
       "      <td>0</td>\n",
       "      <td>1</td>\n",
       "      <td>1</td>\n",
       "      <td>0</td>\n",
       "      <td>12</td>\n",
       "      <td>0</td>\n",
       "      <td>0</td>\n",
       "    </tr>\n",
       "    <tr>\n",
       "      <th>2</th>\n",
       "      <td>7.96</td>\n",
       "      <td>35</td>\n",
       "      <td>0</td>\n",
       "      <td>1</td>\n",
       "      <td>0</td>\n",
       "      <td>1</td>\n",
       "      <td>0</td>\n",
       "      <td>0</td>\n",
       "      <td>10</td>\n",
       "      <td>0</td>\n",
       "      <td>1</td>\n",
       "    </tr>\n",
       "    <tr>\n",
       "      <th>3</th>\n",
       "      <td>11.57</td>\n",
       "      <td>38</td>\n",
       "      <td>0</td>\n",
       "      <td>1</td>\n",
       "      <td>0</td>\n",
       "      <td>0</td>\n",
       "      <td>1</td>\n",
       "      <td>1</td>\n",
       "      <td>16</td>\n",
       "      <td>0</td>\n",
       "      <td>0</td>\n",
       "    </tr>\n",
       "    <tr>\n",
       "      <th>4</th>\n",
       "      <td>11.42</td>\n",
       "      <td>27</td>\n",
       "      <td>0</td>\n",
       "      <td>1</td>\n",
       "      <td>0</td>\n",
       "      <td>0</td>\n",
       "      <td>1</td>\n",
       "      <td>0</td>\n",
       "      <td>16</td>\n",
       "      <td>0</td>\n",
       "      <td>0</td>\n",
       "    </tr>\n",
       "  </tbody>\n",
       "</table>\n",
       "</div>"
      ],
      "text/plain": [
       "    wage  exper  union  goodhlth  black  female  married  service  educ  \\\n",
       "0   5.73     30      0         1      0       1        1        1    14   \n",
       "1   4.28     28      0         1      0       1        1        0    12   \n",
       "2   7.96     35      0         1      0       1        0        0    10   \n",
       "3  11.57     38      0         1      0       0        1        1    16   \n",
       "4  11.42     27      0         1      0       0        1        0    16   \n",
       "\n",
       "   belowavg  aboveavg  \n",
       "0         0         1  \n",
       "1         0         0  \n",
       "2         0         1  \n",
       "3         0         0  \n",
       "4         0         0  "
      ]
     },
     "execution_count": 19,
     "metadata": {},
     "output_type": "execute_result"
    }
   ],
   "source": [
    "data.head()"
   ]
  },
  {
   "cell_type": "markdown",
   "metadata": {},
   "source": [
    "### Построение и анализ регрессии"
   ]
  },
  {
   "cell_type": "code",
   "execution_count": 20,
   "metadata": {},
   "outputs": [
    {
     "name": "stdout",
     "output_type": "stream",
     "text": [
      "                            OLS Regression Results                            \n",
      "==============================================================================\n",
      "Dep. Variable:                   wage   R-squared:                       0.262\n",
      "Model:                            OLS   Adj. R-squared:                  0.256\n",
      "Method:                 Least Squares   F-statistic:                     44.31\n",
      "Date:                Mon, 03 May 2021   Prob (F-statistic):           1.42e-75\n",
      "Time:                        21:39:40   Log-Likelihood:                -3402.9\n",
      "No. Observations:                1259   AIC:                             6828.\n",
      "Df Residuals:                    1248   BIC:                             6884.\n",
      "Df Model:                          10                                         \n",
      "Covariance Type:            nonrobust                                         \n",
      "==============================================================================\n",
      "                 coef    std err          t      P>|t|      [0.025      0.975]\n",
      "------------------------------------------------------------------------------\n",
      "Intercept     -0.5898      0.743     -0.793      0.428      -2.048       0.869\n",
      "exper          0.0850      0.009      9.118      0.000       0.067       0.103\n",
      "union          0.4786      0.234      2.048      0.041       0.020       0.937\n",
      "goodhlth      -0.0444      0.417     -0.107      0.915      -0.862       0.773\n",
      "black         -0.6748      0.403     -1.674      0.094      -1.466       0.116\n",
      "female        -2.3058      0.242     -9.522      0.000      -2.781      -1.831\n",
      "married        0.4569      0.240      1.905      0.057      -0.014       0.927\n",
      "service       -0.7303      0.252     -2.896      0.004      -1.225      -0.236\n",
      "educ           0.4820      0.043     11.272      0.000       0.398       0.566\n",
      "belowavg      -0.8185      0.323     -2.532      0.011      -1.453      -0.184\n",
      "aboveavg      -0.0729      0.234     -0.311      0.756      -0.532       0.387\n",
      "==============================================================================\n",
      "Omnibus:                      898.031   Durbin-Watson:                   1.858\n",
      "Prob(Omnibus):                  0.000   Jarque-Bera (JB):            17969.693\n",
      "Skew:                           3.076   Prob(JB):                         0.00\n",
      "Kurtosis:                      20.456   Cond. No.                         189.\n",
      "==============================================================================\n",
      "\n",
      "Notes:\n",
      "[1] Standard Errors assume that the covariance matrix of the errors is correctly specified.\n"
     ]
    }
   ],
   "source": [
    "m1 = smf.ols('wage ~ exper + union + goodhlth + black + female + married + service + educ + belowavg + aboveavg', data=data)\n",
    "m1fitted = m1.fit()\n",
    "\n",
    "print(m1fitted.summary())"
   ]
  },
  {
   "cell_type": "markdown",
   "metadata": {},
   "source": [
    "Перед тем, как интерпретировать полученные результаты, посмотрим на распределение остатков и визуально сравним его с нормальным."
   ]
  },
  {
   "cell_type": "code",
   "execution_count": null,
   "metadata": {},
   "outputs": [],
   "source": [
    "fig, (ax1, ax2) = plt.subplots(ncols=2,figsize=(16,4)) \n",
    "\n",
    "m1fitted.resid.hist(ax=ax1, grid=False)\n",
    "qqplot(m1fitted.resid, line='r',ax=ax2)\n",
    "\n",
    "plt.show()"
   ]
  },
  {
   "cell_type": "markdown",
   "metadata": {},
   "source": [
    "Распределение остатков имеет тяжелый правый хвост (как, кстати, и распределение заработной платы — нашего отклика). "
   ]
  },
  {
   "cell_type": "markdown",
   "metadata": {},
   "source": [
    "### Преобразование признаков"
   ]
  },
  {
   "cell_type": "markdown",
   "metadata": {},
   "source": [
    "В ситуациях, когда признаки имеют тяжелые хвосты или обладают какими-то другими нежелательными свойствами, часто помогают различные преобразования этих признаков. Давайте, в качестве примера, перейдем от регрессии исходного отклика к регрессии его логарифма."
   ]
  },
  {
   "cell_type": "code",
   "execution_count": null,
   "metadata": {},
   "outputs": [],
   "source": [
    "fig, (ax1, ax2) = plt.subplots(ncols=2,figsize=(16,4)) \n",
    "\n",
    "data['wage'].plot.hist(ax=ax1, grid=False)\n",
    "ax1.set_xlabel(\"Wage\")\n",
    "\n",
    "np.log(data['wage']).plot.hist(ax=ax2, grid=False)\n",
    "ax2.set_xlabel(\"Log(Wage)\")\n",
    "\n",
    "plt.show()"
   ]
  },
  {
   "cell_type": "code",
   "execution_count": null,
   "metadata": {},
   "outputs": [],
   "source": [
    "m2 = smf.ols('np.log(wage) ~ exper + union + goodhlth + black + female + married + service + educ + belowavg + aboveavg', data=data)\n",
    "m2fitted = m2.fit()\n",
    "\n",
    "print(m2fitted.summary())"
   ]
  },
  {
   "cell_type": "markdown",
   "metadata": {},
   "source": [
    "Снова посмотрим на остатки."
   ]
  },
  {
   "cell_type": "code",
   "execution_count": null,
   "metadata": {},
   "outputs": [],
   "source": [
    "fig, (ax1, ax2) = plt.subplots(ncols=2,figsize=(16,4)) \n",
    "\n",
    "m2fitted.resid.hist(ax=ax1, grid=False)\n",
    "qqplot(m2fitted.resid, line='r',ax=ax2)\n",
    "\n",
    "plt.show()"
   ]
  },
  {
   "cell_type": "markdown",
   "metadata": {},
   "source": [
    "Ситуация с остатками стала значительно лучше: коэффициент детерминации увеличился, а распределение остатков стало больше напоминать нормальное. Посмотрим на зависимость остатков от непрерывных признаков."
   ]
  },
  {
   "cell_type": "code",
   "execution_count": null,
   "metadata": {},
   "outputs": [],
   "source": [
    "fig, (ax1, ax2) = plt.subplots(ncols=2, figsize=(16,4)) \n",
    "\n",
    "ax1.scatter(data['educ'],m2fitted.resid)\n",
    "ax1.set_xlabel('Education')\n",
    "ax1.set_ylabel('Residuals')\n",
    "\n",
    "ax2.scatter(data['exper'],m2fitted.resid)\n",
    "ax2.set_xlabel('Experience')\n",
    "ax2.set_ylabel('Residuals')\n",
    "\n",
    "plt.show()"
   ]
  },
  {
   "cell_type": "markdown",
   "metadata": {},
   "source": [
    "По второму графику может показаться, что остатки расположены несимметрично относительно нуля. Так может произойти, например, если зависимость отклика от отпыта работы не является линейной. Посмотрим на эту зависимость повнимательнее. "
   ]
  },
  {
   "cell_type": "code",
   "execution_count": null,
   "metadata": {},
   "outputs": [],
   "source": [
    "plt.figure(figsize=(8,5))\n",
    "\n",
    "plt.scatter(data['exper'],np.log(data['wage']))\n",
    "plt.xlabel('Experience')\n",
    "plt.ylabel('Log(Wage)')\n",
    "\n",
    "plt.show()"
   ]
  },
  {
   "cell_type": "markdown",
   "metadata": {},
   "source": [
    "Действительно, эта зависимость не похожа на линейную. Мы видим, что сначала значения отклика увеличиваются при увеличении опыта работы, но затем увеличение опыта работы перестает влиять на отклик. Может показаться, что зависимость больше напоминает квадратный корень или параболу (малой кривизны). Попробуем добавить к признакам квадратный корень опыта работы, чтобы учесть этот эффект."
   ]
  },
  {
   "cell_type": "markdown",
   "metadata": {},
   "source": [
    "### Добавление новых признаков"
   ]
  },
  {
   "cell_type": "code",
   "execution_count": null,
   "metadata": {},
   "outputs": [],
   "source": [
    "m3 = smf.ols('np.log(wage) ~ exper + np.sqrt(exper) + union + goodhlth + black + female + married + service + educ + belowavg + aboveavg', data=data)\n",
    "m3fitted = m3.fit()\n",
    "\n",
    "print(m3fitted.summary())"
   ]
  },
  {
   "cell_type": "markdown",
   "metadata": {},
   "source": [
    "Посмотрим на остатки и зависимость остатков от непрерывных признаков."
   ]
  },
  {
   "cell_type": "code",
   "execution_count": null,
   "metadata": {},
   "outputs": [],
   "source": [
    "fig, (ax1, ax2) = plt.subplots(ncols=2, figsize=(15,4)) \n",
    "\n",
    "m3fitted.resid.hist(ax=ax1, grid=False)\n",
    "qqplot(m3fitted.resid, line='r',ax=ax2)\n",
    "\n",
    "plt.show()"
   ]
  },
  {
   "cell_type": "code",
   "execution_count": null,
   "metadata": {},
   "outputs": [],
   "source": [
    "fig, (ax1, ax2, ax3) = plt.subplots(ncols=3, figsize=(16,4)) \n",
    "\n",
    "ax1.scatter(data['educ'],m3fitted.resid)\n",
    "ax1.set_xlabel('Education')\n",
    "ax1.set_ylabel('Residuals')\n",
    "\n",
    "ax2.scatter(data['exper'],m3fitted.resid)\n",
    "ax2.set_xlabel('Experience')\n",
    "ax2.set_ylabel('Residuals')\n",
    "\n",
    "ax3.scatter(np.sqrt(data['exper']),m3fitted.resid)\n",
    "ax3.set_xlabel('Sqrt(Experience)')\n",
    "ax3.set_ylabel('Residuals')\n",
    "\n",
    "plt.show()"
   ]
  },
  {
   "cell_type": "markdown",
   "metadata": {},
   "source": [
    "Заметим, что после добавления нового признака — квадратного корня из опыта работы — ситуация улучшилась: распределение остатков стало более гомоскедастичным и симметричным относительно нуля. Хоть и коэффициент детерминации $R^2$ сильно не изменился, оставим этот признак в нашей модели, так как симметричность и гомоскедастичность ошибок улучшит точность доверительных интервалов для коэффициентов регрессии и проверку гипотез о их значениях (доверительные интервалы и критерии строятся в предположении о нормальности ошибок)."
   ]
  },
  {
   "cell_type": "markdown",
   "metadata": {},
   "source": [
    "### Удаление ненужных признаков"
   ]
  },
  {
   "cell_type": "markdown",
   "metadata": {},
   "source": [
    "В модели m3 есть признаки, которые слабо влияют на отклик: состояние здоровья, цвет кожи, семейное положение и Intercept (столбец единиц). Удалим их. Признак aboveavg (привлекательность выше среднего) тоже незначим, но удалять его не будем, так как в данной задаче нам нужно исследовать его влияние на отклик."
   ]
  },
  {
   "cell_type": "code",
   "execution_count": null,
   "metadata": {},
   "outputs": [],
   "source": [
    "m4 = smf.ols('np.log(wage) ~ exper + np.sqrt(exper) + union + female + service + educ + belowavg + aboveavg -1', data=data)\n",
    "m4fitted = m4.fit()\n",
    "\n",
    "print(m4fitted.summary())"
   ]
  },
  {
   "cell_type": "markdown",
   "metadata": {},
   "source": [
    "После удаления четырех признаков коэффициент детерминации $R^2$ значимо изменился, теперь его значение равно $0.933$. Но это ничего не значит, так как без признака Intercept он считается по другой формуле: https://www.statsmodels.org/stable/generated/statsmodels.regression.linear_model.RegressionResults.rsquared.html#statsmodels.regression.linear_model.RegressionResults.rsquared "
   ]
  },
  {
   "cell_type": "code",
   "execution_count": null,
   "metadata": {},
   "outputs": [],
   "source": [
    "print(1 - m4fitted.ssr/m4fitted.uncentered_tss)\n",
    "print(1 - m4fitted.ssr/m4fitted.centered_tss) "
   ]
  },
  {
   "cell_type": "markdown",
   "metadata": {},
   "source": [
    "Тем не менее, коэффициент $R^2$, посчитанный по предыдущей формуле, почти не изменился. Это означает, что модель несильно пострадала от удаления признаков."
   ]
  },
  {
   "cell_type": "code",
   "execution_count": null,
   "metadata": {},
   "outputs": [],
   "source": [
    "fig, (ax1, ax2) = plt.subplots(ncols=2,figsize=(15,4)) \n",
    "\n",
    "m4fitted.resid.hist(ax=ax1, grid=False)\n",
    "qqplot(m4fitted.resid, line='r',ax=ax2)\n",
    "\n",
    "plt.show()"
   ]
  },
  {
   "cell_type": "markdown",
   "metadata": {},
   "source": [
    "### Критерий Фишера"
   ]
  },
  {
   "cell_type": "markdown",
   "metadata": {},
   "source": [
    "Посмотрим с помощью критерия Фишера, не стала ли модель m4 хуже m3 после удаления четырех признаков."
   ]
  },
  {
   "cell_type": "code",
   "execution_count": null,
   "metadata": {},
   "outputs": [],
   "source": [
    "# первый способ\n",
    "\n",
    "print(\"F=%f, pvalue=%f, k1=%f\" % m3fitted.compare_f_test(m4fitted))"
   ]
  },
  {
   "cell_type": "code",
   "execution_count": null,
   "metadata": {},
   "outputs": [],
   "source": [
    "# второй способ способ\n",
    "\n",
    "m3fitted.f_test(\"Intercept = goodhlth = black = married = 0\")"
   ]
  },
  {
   "cell_type": "markdown",
   "metadata": {},
   "source": [
    "Видим, что гипотеза \"Intercept = goodhlth = black = married = 0\" не отвергается, что окончательно убеждает нас в том, что модель m4 лучше, чем m3. (Конечно, этот критерий тоже требует нормальность ошибок, которой у нас нет, тем не менее мы пользуемся принципом: \"идеальные условия никогда не выполняются, но модели, которые мы строим и которые требуют выполнения этих идеальных условий, часто бывают полезными\".)"
   ]
  },
  {
   "cell_type": "markdown",
   "metadata": {},
   "source": [
    "### Еще одна визуальная проверка"
   ]
  },
  {
   "cell_type": "markdown",
   "metadata": {},
   "source": [
    "Еще один способ визуально проверить регрессионную модель, является следующий график. На нем отображена зависимость \"влиятельности\" каждого наблюдения от квадрата соответствующего остатка (квадрата ошибки предсказания модели). Подробнее о том, как считается \"влиятельность\" можно посмотреть здесь: https://en.wikipedia.org/wiki/Leverage_(statistics)"
   ]
  },
  {
   "cell_type": "code",
   "execution_count": null,
   "metadata": {},
   "outputs": [],
   "source": [
    "plt.rc(\"figure\", figsize=(16,8))\n",
    "plot_leverage_resid2(m4fitted)\n",
    "plt.show()"
   ]
  },
  {
   "cell_type": "code",
   "execution_count": null,
   "metadata": {},
   "outputs": [],
   "source": [
    "data.loc[[269]]"
   ]
  },
  {
   "cell_type": "code",
   "execution_count": null,
   "metadata": {},
   "outputs": [],
   "source": [
    "data.loc[[878]]"
   ]
  },
  {
   "cell_type": "markdown",
   "metadata": {},
   "source": [
    "В целом, на этом графике все хорошо — мы не видим очевидных выбросов. Можно, конечно, попытаться удалить точки, на которых наша модель сильно ошибается (примеры выше), но не совсем очевидно, поэтому это сделает нашу модель лучше."
   ]
  },
  {
   "cell_type": "markdown",
   "metadata": {},
   "source": [
    "### Вывод"
   ]
  },
  {
   "cell_type": "markdown",
   "metadata": {},
   "source": [
    "Итоговая модель m4 достаточно хороша, она объясняет примерно $40\\%$ вариации отклика — логарифма заработной платы. \n",
    "Она выглядит следующим образом: \n",
    "\n",
    "$$\n",
    "\\log(\\text{wage}) \\approx \n",
    "-0.0244 \\cdot \\text{exper} + 0.3185  \\cdot \\sqrt{\\text{exper}}\n",
    "+0.1719 \\cdot \\text{union} -0.4013 \\cdot \\text{female}\n",
    "-0.1616 \\cdot \\text{service} +0.0777 \\cdot \\text{educ}\\\\\n",
    "-0.1210 \\cdot \\text{belowavg}  -0.0021 \\cdot \\text{aboveavg}.\n",
    "$$\n",
    "  \n",
    "Это можно записать в следующем виде: \n",
    "\n",
    "$$\n",
    "\\text{wage} \\approx  e^{-0.0244 \\text{exper}} \\cdot e^{0.3185 \\sqrt{\\text{exper}}}\n",
    "\\cdot e^{+0.1719 \\text{union}} \\cdot e^{-0.4013 \\text{female}}\n",
    "\\cdot e^{-0.1616 \\text{service}} \\cdot e^{0.0777 \\text{educ}}\n",
    "\\cdot e^{-0.1210 \\text{belowavg}} \\cdot e^{ -0.0021\\text{aboveavg}}.\n",
    "$$\n",
    "\n",
    "\n",
    "При интересующих нас признаках привлекательности стоят коэффициенты: -0.1210 (при belowavg) и -0.0021 (при aboveavg). Поскольку регрессия делалась на логарифм заработной платы, интерпретировать их можно как прирост в процентах ($e^{\\beta} \\approx 1 + \\beta$). То есть представители генеральной совокупности, из которой взята выборка, получают в среднем:\n",
    "\n",
    "* на 12% меньше, если их привлекательность ниже среднего;\n",
    "* столько же, если их привлекательность выше среднего."
   ]
  },
  {
   "cell_type": "markdown",
   "metadata": {},
   "source": [
    "### П.С. Предсказание"
   ]
  },
  {
   "cell_type": "markdown",
   "metadata": {},
   "source": [
    "Как мы уже говорили, регрессионные модели часто стоятся для предсказания отклика на новых признаках. "
   ]
  },
  {
   "cell_type": "code",
   "execution_count": null,
   "metadata": {},
   "outputs": [],
   "source": [
    "data.head(1)"
   ]
  },
  {
   "cell_type": "markdown",
   "metadata": {},
   "source": [
    "Построим предсказание для наблюдения выше в случае, если бы у этого человека было бы 10 лет образования, но 34 года опыта работы."
   ]
  },
  {
   "cell_type": "code",
   "execution_count": null,
   "metadata": {},
   "outputs": [],
   "source": [
    "point = data.iloc[0,1:]\n",
    "point['exper'] = 34\n",
    "point['educ'] = 10"
   ]
  },
  {
   "cell_type": "code",
   "execution_count": null,
   "metadata": {},
   "outputs": [],
   "source": [
    "# так как в модели откликом являлась не заработная плата, а ее логарифм, \n",
    "# то функция predict вернет предсказанное значение для логарифма\n",
    "\n",
    "logwage_predicted = m4fitted.predict(point)"
   ]
  },
  {
   "cell_type": "code",
   "execution_count": null,
   "metadata": {},
   "outputs": [],
   "source": [
    "# а так получим предсказание для самой заработной платы\n",
    "\n",
    "wage_predicted = np.exp(logwage_predicted)"
   ]
  },
  {
   "cell_type": "code",
   "execution_count": null,
   "metadata": {},
   "outputs": [],
   "source": [
    "print(\"Заработная плата будет равна: \", wage_predicted.values[0])"
   ]
  }
 ],
 "metadata": {
  "kernelspec": {
   "display_name": "Python 3",
   "language": "python",
   "name": "python3"
  },
  "language_info": {
   "codemirror_mode": {
    "name": "ipython",
    "version": 3
   },
   "file_extension": ".py",
   "mimetype": "text/x-python",
   "name": "python",
   "nbconvert_exporter": "python",
   "pygments_lexer": "ipython3",
   "version": "3.8.0"
  }
 },
 "nbformat": 4,
 "nbformat_minor": 2
}
