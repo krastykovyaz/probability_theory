{
 "cells": [
  {
   "cell_type": "code",
   "execution_count": 1,
   "id": "amended-kingdom",
   "metadata": {},
   "outputs": [
    {
     "name": "stderr",
     "output_type": "stream",
     "text": [
      "/Users/a19028558/Desktop/transfer_accounts/akovyaz/learning_myself/env_school/lib/python3.8/site-packages/pandas/compat/__init__.py:97: UserWarning: Could not import the lzma module. Your installed Python is incomplete. Attempting to use lzma compression will result in a RuntimeError.\n",
      "  warnings.warn(msg)\n"
     ]
    }
   ],
   "source": [
    "import pandas as pd\n",
    "import numpy as np\n",
    "from scipy import stats\n",
    "import matplotlib.pyplot as plt\n",
    "%matplotlib inline\n",
    "\n",
    "n = 500 # размер выборки\n",
    "np.random.seed(21)"
   ]
  },
  {
   "cell_type": "markdown",
   "id": "banned-voluntary",
   "metadata": {},
   "source": [
    "#### 1. Для данных из файла employees.xls постройте гистограмму для переменной SALARY. Похоже ли распределение зарплат на нормальный закон? Проверьте нормальность с помощью изученных критериев."
   ]
  },
  {
   "cell_type": "code",
   "execution_count": 2,
   "id": "interested-section",
   "metadata": {},
   "outputs": [
    {
     "data": {
      "text/html": [
       "<div>\n",
       "<style scoped>\n",
       "    .dataframe tbody tr th:only-of-type {\n",
       "        vertical-align: middle;\n",
       "    }\n",
       "\n",
       "    .dataframe tbody tr th {\n",
       "        vertical-align: top;\n",
       "    }\n",
       "\n",
       "    .dataframe thead th {\n",
       "        text-align: right;\n",
       "    }\n",
       "</style>\n",
       "<table border=\"1\" class=\"dataframe\">\n",
       "  <thead>\n",
       "    <tr style=\"text-align: right;\">\n",
       "      <th></th>\n",
       "      <th>Unnamed: 0</th>\n",
       "      <th>GENDER</th>\n",
       "      <th>DEPART</th>\n",
       "      <th>EDUC</th>\n",
       "      <th>AGE</th>\n",
       "      <th>HEIGHT</th>\n",
       "      <th>SENIOR</th>\n",
       "      <th>SALARY</th>\n",
       "      <th>INI_PROF</th>\n",
       "      <th>CUR_PROF</th>\n",
       "    </tr>\n",
       "  </thead>\n",
       "  <tbody>\n",
       "    <tr>\n",
       "      <th>0</th>\n",
       "      <td>Alexander</td>\n",
       "      <td>Female</td>\n",
       "      <td>Ship</td>\n",
       "      <td>College</td>\n",
       "      <td>22</td>\n",
       "      <td>63</td>\n",
       "      <td>4</td>\n",
       "      <td>23400</td>\n",
       "      <td>82</td>\n",
       "      <td>90</td>\n",
       "    </tr>\n",
       "    <tr>\n",
       "      <th>1</th>\n",
       "      <td>Arcones</td>\n",
       "      <td>Male</td>\n",
       "      <td>Package</td>\n",
       "      <td>College</td>\n",
       "      <td>49</td>\n",
       "      <td>65</td>\n",
       "      <td>17</td>\n",
       "      <td>40400</td>\n",
       "      <td>89</td>\n",
       "      <td>123</td>\n",
       "    </tr>\n",
       "    <tr>\n",
       "      <th>2</th>\n",
       "      <td>Barber</td>\n",
       "      <td>Male</td>\n",
       "      <td>Bake</td>\n",
       "      <td>College</td>\n",
       "      <td>36</td>\n",
       "      <td>67</td>\n",
       "      <td>8</td>\n",
       "      <td>29400</td>\n",
       "      <td>77</td>\n",
       "      <td>93</td>\n",
       "    </tr>\n",
       "    <tr>\n",
       "      <th>3</th>\n",
       "      <td>Barrera</td>\n",
       "      <td>Male</td>\n",
       "      <td>Package</td>\n",
       "      <td>HS</td>\n",
       "      <td>37</td>\n",
       "      <td>67</td>\n",
       "      <td>3</td>\n",
       "      <td>24800</td>\n",
       "      <td>102</td>\n",
       "      <td>108</td>\n",
       "    </tr>\n",
       "    <tr>\n",
       "      <th>4</th>\n",
       "      <td>Bester</td>\n",
       "      <td>Male</td>\n",
       "      <td>Ship</td>\n",
       "      <td>Grad</td>\n",
       "      <td>43</td>\n",
       "      <td>66</td>\n",
       "      <td>11</td>\n",
       "      <td>31200</td>\n",
       "      <td>82</td>\n",
       "      <td>104</td>\n",
       "    </tr>\n",
       "  </tbody>\n",
       "</table>\n",
       "</div>"
      ],
      "text/plain": [
       "   Unnamed: 0  GENDER   DEPART     EDUC  AGE  HEIGHT  SENIOR  SALARY  \\\n",
       "0  Alexander   Female     Ship  College   22      63       4   23400   \n",
       "1  Arcones       Male  Package  College   49      65      17   40400   \n",
       "2  Barber        Male     Bake  College   36      67       8   29400   \n",
       "3  Barrera       Male  Package       HS   37      67       3   24800   \n",
       "4  Bester        Male     Ship     Grad   43      66      11   31200   \n",
       "\n",
       "   INI_PROF  CUR_PROF  \n",
       "0        82        90  \n",
       "1        89       123  \n",
       "2        77        93  \n",
       "3       102       108  \n",
       "4        82       104  "
      ]
     },
     "execution_count": 2,
     "metadata": {},
     "output_type": "execute_result"
    }
   ],
   "source": [
    "# импортируем данные\n",
    "data = pd.read_excel('../HW3_Data/employees.xls')\n",
    "data.head()"
   ]
  },
  {
   "cell_type": "code",
   "execution_count": 3,
   "id": "cutting-engine",
   "metadata": {},
   "outputs": [],
   "source": [
    "# Разделим данные по условию задачи\n",
    "sample1 = data[data['GENDER'] == 'Female']['SALARY']\n",
    "sample2 = data[data['GENDER'] == 'Male']['SALARY']"
   ]
  },
  {
   "cell_type": "code",
   "execution_count": 4,
   "id": "figured-assistant",
   "metadata": {},
   "outputs": [
    {
     "data": {
      "image/png": "[encoded data removed]",
      "text/plain": [
       "<Figure size 1080x288 with 2 Axes>"
      ]
     },
     "metadata": {
      "needs_background": "light"
     },
     "output_type": "display_data"
    }
   ],
   "source": [
    "# посмотрим на гистограмму\n",
    "fig, (ax1, ax2) = plt.subplots(ncols=2, figsize=(15,4)) \n",
    "\n",
    "ax1.hist(sample1, bins=5)\n",
    "ax2.hist(sample2, bins=5)\n",
    "\n",
    "plt.show()"
   ]
  },
  {
   "cell_type": "code",
   "execution_count": 5,
   "id": "shared-austria",
   "metadata": {},
   "outputs": [
    {
     "name": "stderr",
     "output_type": "stream",
     "text": [
      "/Users/a19028558/Desktop/transfer_accounts/akovyaz/learning_myself/env_school/lib/python3.8/site-packages/statsmodels/graphics/gofplots.py:993: UserWarning: marker is redundantly defined by the 'marker' keyword argument and the fmt string \"bo\" (-> marker='o'). The keyword argument will take precedence.\n",
      "  ax.plot(x, y, fmt, **plot_style)\n",
      "/Users/a19028558/Desktop/transfer_accounts/akovyaz/learning_myself/env_school/lib/python3.8/site-packages/statsmodels/graphics/gofplots.py:993: UserWarning: marker is redundantly defined by the 'marker' keyword argument and the fmt string \"bo\" (-> marker='o'). The keyword argument will take precedence.\n",
      "  ax.plot(x, y, fmt, **plot_style)\n"
     ]
    },
    {
     "data": {
      "image/png": "[encoded data removed]",
      "text/plain": [
       "<Figure size 1080x288 with 2 Axes>"
      ]
     },
     "metadata": {
      "needs_background": "light"
     },
     "output_type": "display_data"
    }
   ],
   "source": [
    "# посмотрим на qqplot\n",
    "from statsmodels.graphics.gofplots import qqplot # импортируем функцию qqplot\n",
    "\n",
    "fig, (ax1, ax2) = plt.subplots(ncols=2, figsize=(15,4)) \n",
    "\n",
    "qqplot(sample1, line='r', ax=ax1)\n",
    "qqplot(sample2, line='r', ax=ax2)\n",
    "\n",
    "plt.show()"
   ]
  },
  {
   "cell_type": "markdown",
   "id": "amended-vertical",
   "metadata": {},
   "source": [
    "Конечно, ни о какой нормальности в этих данный и не идет речь. Тем не менее попробуем применить критерий Стьюдента."
   ]
  },
  {
   "cell_type": "code",
   "execution_count": 6,
   "id": "polar-demographic",
   "metadata": {},
   "outputs": [
    {
     "data": {
      "text/plain": [
       "Ttest_indResult(statistic=-1.0761193318360134, pvalue=0.28451599063450816)"
      ]
     },
     "execution_count": 6,
     "metadata": {},
     "output_type": "execute_result"
    }
   ],
   "source": [
    "stats.ttest_ind(sample1, sample2)"
   ]
  },
  {
   "cell_type": "code",
   "execution_count": 7,
   "id": "innocent-portsmouth",
   "metadata": {},
   "outputs": [
    {
     "name": "stdout",
     "output_type": "stream",
     "text": [
      "ShapiroResult(statistic=0.7950240969657898, pvalue=4.30462841904955e-06)\n",
      "ShapiroResult(statistic=0.9463528990745544, pvalue=0.011432561092078686)\n"
     ]
    }
   ],
   "source": [
    "# запускаем критерий Шапиро-Уилка для sample1 и для sample2\n",
    "\n",
    "print(stats.shapiro(sample1))\n",
    "print(stats.shapiro(sample2))"
   ]
  },
  {
   "cell_type": "code",
   "execution_count": 8,
   "id": "assumed-saturday",
   "metadata": {},
   "outputs": [
    {
     "name": "stdout",
     "output_type": "stream",
     "text": [
      "Jarque_beraResult(statistic=52.888498373188014, pvalue=3.276490190273762e-12)\n",
      "Jarque_beraResult(statistic=6.965817330563081, pvalue=0.030717932780094048)\n"
     ]
    }
   ],
   "source": [
    "# запускаем критерий Харке-Бера для sample1 и для sample2\n",
    "\n",
    "print(stats.jarque_bera(sample1))\n",
    "print(stats.jarque_bera(sample2))"
   ]
  },
  {
   "cell_type": "markdown",
   "id": "aware-protocol",
   "metadata": {},
   "source": [
    "#### 2. Методом перебора найдите наиболее подходящий тип распределения для выборки, содержащейся в файле sample.csv. Сначала постройте гистограмму, чтобы получить представление о форме плотности распределения. Затем изучите квантильные графики для разных распределений. Если будет такая возможность, попробуйте применить какие-то критерии согласия."
   ]
  },
  {
   "cell_type": "code",
   "execution_count": 9,
   "id": "pressed-teach",
   "metadata": {},
   "outputs": [
    {
     "data": {
      "text/plain": [
       "(100, 1)"
      ]
     },
     "execution_count": 9,
     "metadata": {},
     "output_type": "execute_result"
    }
   ],
   "source": [
    "# импортируем данные\n",
    "data = pd.read_csv('../HW3_Data/sample.csv')\n",
    "data.shape"
   ]
  },
  {
   "cell_type": "code",
   "execution_count": 10,
   "id": "postal-belly",
   "metadata": {},
   "outputs": [],
   "source": [
    "sample = data['Sample']"
   ]
  },
  {
   "cell_type": "code",
   "execution_count": 11,
   "id": "desirable-azerbaijan",
   "metadata": {},
   "outputs": [],
   "source": [
    "sample1 = np.random.rand(n) # выборка 1 из равномерного распределения на [0,1]\n",
    "sample2 = np.random.beta(2,2,size = n) # выборка 2 из бета-распределения с параметрами (2,2)"
   ]
  },
  {
   "cell_type": "code",
   "execution_count": 12,
   "id": "amateur-vegetarian",
   "metadata": {},
   "outputs": [
    {
     "data": {
      "image/png": "[encoded data removed]",
      "text/plain": [
       "<Figure size 1152x288 with 2 Axes>"
      ]
     },
     "metadata": {
      "needs_background": "light"
     },
     "output_type": "display_data"
    }
   ],
   "source": [
    "# давайте сначала посмотрим на гистограммы для sample1 и sample2\n",
    "\n",
    "fig, (ax1, ax2) = plt.subplots(ncols=2,figsize=(16,4)) \n",
    "\n",
    "ax1.hist(sample1, bins=20)\n",
    "ax2.hist(sample2, bins=20)\n",
    "\n",
    "plt.show()"
   ]
  },
  {
   "cell_type": "code",
   "execution_count": 13,
   "id": "monthly-plate",
   "metadata": {},
   "outputs": [
    {
     "name": "stderr",
     "output_type": "stream",
     "text": [
      "/Users/a19028558/Desktop/transfer_accounts/akovyaz/learning_myself/env_school/lib/python3.8/site-packages/statsmodels/graphics/gofplots.py:993: UserWarning: marker is redundantly defined by the 'marker' keyword argument and the fmt string \"bo\" (-> marker='o'). The keyword argument will take precedence.\n",
      "  ax.plot(x, y, fmt, **plot_style)\n",
      "/Users/a19028558/Desktop/transfer_accounts/akovyaz/learning_myself/env_school/lib/python3.8/site-packages/statsmodels/graphics/gofplots.py:993: UserWarning: marker is redundantly defined by the 'marker' keyword argument and the fmt string \"bo\" (-> marker='o'). The keyword argument will take precedence.\n",
      "  ax.plot(x, y, fmt, **plot_style)\n"
     ]
    },
    {
     "data": {
      "image/png": "[encoded data removed]",
      "text/plain": [
       "<Figure size 1080x288 with 2 Axes>"
      ]
     },
     "metadata": {
      "needs_background": "light"
     },
     "output_type": "display_data"
    }
   ],
   "source": [
    "# посмотрим на qqplot\n",
    "\n",
    "from statsmodels.graphics.gofplots import qqplot # импортируем функцию qqplot\n",
    "\n",
    "fig, (ax1, ax2) = plt.subplots(ncols=2, figsize=(15,4)) \n",
    "\n",
    "qqplot(sample1, line='r', ax=ax1)\n",
    "qqplot(sample2, line='r', ax=ax2)\n",
    "\n",
    "plt.show()"
   ]
  },
  {
   "cell_type": "code",
   "execution_count": 14,
   "id": "medium-provincial",
   "metadata": {},
   "outputs": [
    {
     "data": {
      "image/png": "[encoded data removed]",
      "text/plain": [
       "<Figure size 576x288 with 1 Axes>"
      ]
     },
     "metadata": {
      "needs_background": "light"
     },
     "output_type": "display_data"
    }
   ],
   "source": [
    "# посмотрим на гистограмму\n",
    "fig, ax1 = plt.subplots(ncols=1, figsize=(8,4)) \n",
    "\n",
    "ax1.hist(sample, bins=5)\n",
    "\n",
    "plt.show()"
   ]
  },
  {
   "cell_type": "code",
   "execution_count": 15,
   "id": "focused-filename",
   "metadata": {},
   "outputs": [
    {
     "name": "stderr",
     "output_type": "stream",
     "text": [
      "/Users/a19028558/Desktop/transfer_accounts/akovyaz/learning_myself/env_school/lib/python3.8/site-packages/statsmodels/graphics/gofplots.py:993: UserWarning: marker is redundantly defined by the 'marker' keyword argument and the fmt string \"bo\" (-> marker='o'). The keyword argument will take precedence.\n",
      "  ax.plot(x, y, fmt, **plot_style)\n"
     ]
    },
    {
     "data": {
      "image/png": "[encoded data removed]",
      "text/plain": [
       "<Figure size 432x288 with 1 Axes>"
      ]
     },
     "metadata": {
      "needs_background": "light"
     },
     "output_type": "display_data"
    }
   ],
   "source": [
    "# посмотрим на qqplot\n",
    "\n",
    "from statsmodels.graphics.gofplots import qqplot # импортируем функцию qqplot\n",
    "\n",
    "qqplot(sample, line='s')\n",
    "plt.show()"
   ]
  },
  {
   "cell_type": "markdown",
   "id": "floating-assessment",
   "metadata": {},
   "source": [
    "Распределение ненормальное"
   ]
  },
  {
   "cell_type": "code",
   "execution_count": 16,
   "id": "productive-magnet",
   "metadata": {},
   "outputs": [
    {
     "data": {
      "text/plain": [
       "KstestResult(statistic=0.84, pvalue=1.1464745227715802e-79)"
      ]
     },
     "execution_count": 16,
     "metadata": {},
     "output_type": "execute_result"
    }
   ],
   "source": [
    "# проверяем гипотезу о том, что выборка взята из равномерного распределения на [0,1]\n",
    "# Должны получить большой p-value (что будет означать, что значение статистики попало в область вероятных значений)\n",
    "stats.kstest(sample, stats.uniform.cdf)"
   ]
  },
  {
   "cell_type": "code",
   "execution_count": 17,
   "id": "detailed-springfield",
   "metadata": {},
   "outputs": [
    {
     "data": {
      "text/plain": [
       "KstestResult(statistic=0.84, pvalue=1.1464745227715802e-79)"
      ]
     },
     "execution_count": 17,
     "metadata": {},
     "output_type": "execute_result"
    }
   ],
   "source": [
    "# проверяем гипотезу о том, что выборка взята из бета-распределения с параметрами (2,2)\n",
    "stats.kstest(sample, stats.beta.cdf, args=(2,2))"
   ]
  },
  {
   "cell_type": "code",
   "execution_count": 18,
   "id": "related-default",
   "metadata": {},
   "outputs": [
    {
     "data": {
      "text/plain": [
       "1.819269    1\n",
       "2.567554    1\n",
       "1.686650    1\n",
       "0.687877    1\n",
       "5.464239    1\n",
       "Name: Sample, dtype: int64"
      ]
     },
     "execution_count": 18,
     "metadata": {},
     "output_type": "execute_result"
    }
   ],
   "source": [
    "data.Sample.value_counts().head()"
   ]
  },
  {
   "cell_type": "markdown",
   "id": "married-explorer",
   "metadata": {},
   "source": [
    "Применить критерии согласия Хи-квадрат не можем, так как нет частночти и распределения вероятностей."
   ]
  },
  {
   "cell_type": "code",
   "execution_count": 19,
   "id": "welsh-packaging",
   "metadata": {},
   "outputs": [],
   "source": [
    "# проверка нормальности\n",
    "sample1 = np.random.normal(0,1, size=n) # выборка из нормального распределения\n",
    "sample2 = np.random.beta(2,2,size = n) # выборка из бета-распределения с параметрами (2,2)\n"
   ]
  },
  {
   "cell_type": "code",
   "execution_count": 20,
   "id": "dimensional-looking",
   "metadata": {},
   "outputs": [
    {
     "data": {
      "image/png": "[encoded data removed]",
      "text/plain": [
       "<Figure size 1152x288 with 2 Axes>"
      ]
     },
     "metadata": {
      "needs_background": "light"
     },
     "output_type": "display_data"
    }
   ],
   "source": [
    "# нарисуем гистограммы \n",
    "\n",
    "fig, (ax1, ax2) = plt.subplots(ncols=2,figsize=(16,4)) \n",
    "\n",
    "ax1.hist(sample1, bins=20)\n",
    "ax2.hist(sample2, bins=20)\n",
    "\n",
    "plt.show()"
   ]
  },
  {
   "cell_type": "code",
   "execution_count": 21,
   "id": "first-fellow",
   "metadata": {},
   "outputs": [
    {
     "name": "stderr",
     "output_type": "stream",
     "text": [
      "/Users/a19028558/Desktop/transfer_accounts/akovyaz/learning_myself/env_school/lib/python3.8/site-packages/statsmodels/graphics/gofplots.py:993: UserWarning: marker is redundantly defined by the 'marker' keyword argument and the fmt string \"bo\" (-> marker='o'). The keyword argument will take precedence.\n",
      "  ax.plot(x, y, fmt, **plot_style)\n",
      "/Users/a19028558/Desktop/transfer_accounts/akovyaz/learning_myself/env_school/lib/python3.8/site-packages/statsmodels/graphics/gofplots.py:993: UserWarning: marker is redundantly defined by the 'marker' keyword argument and the fmt string \"bo\" (-> marker='o'). The keyword argument will take precedence.\n",
      "  ax.plot(x, y, fmt, **plot_style)\n"
     ]
    },
    {
     "data": {
      "image/png": "[encoded data removed]",
      "text/plain": [
       "<Figure size 1080x288 with 2 Axes>"
      ]
     },
     "metadata": {
      "needs_background": "light"
     },
     "output_type": "display_data"
    }
   ],
   "source": [
    "# посмотрим на qqplot\n",
    "\n",
    "from statsmodels.graphics.gofplots import qqplot # импортируем функцию qqplot\n",
    "\n",
    "fig, (ax1, ax2) = plt.subplots(ncols=2, figsize=(15,4)) \n",
    "\n",
    "qqplot(sample1, line='r', ax=ax1)\n",
    "qqplot(sample2, line='r', ax=ax2)\n",
    "\n",
    "plt.show()"
   ]
  },
  {
   "cell_type": "code",
   "execution_count": 22,
   "id": "unsigned-volume",
   "metadata": {},
   "outputs": [
    {
     "name": "stdout",
     "output_type": "stream",
     "text": [
      "ShapiroResult(statistic=0.9985003471374512, pvalue=0.9500007629394531)\n",
      "ShapiroResult(statistic=0.9764503240585327, pvalue=3.261163215029228e-07)\n"
     ]
    }
   ],
   "source": [
    "# запускаем критерий Шапиро-Уилка\n",
    "\n",
    "print(stats.shapiro(sample1))\n",
    "print(stats.shapiro(sample2))"
   ]
  },
  {
   "cell_type": "code",
   "execution_count": 23,
   "id": "demographic-search",
   "metadata": {},
   "outputs": [
    {
     "name": "stdout",
     "output_type": "stream",
     "text": [
      "Jarque_beraResult(statistic=0.029767051850239593, pvalue=0.9852266862872586)\n",
      "Jarque_beraResult(statistic=19.748796121995788, pvalue=5.147583616937901e-05)\n"
     ]
    }
   ],
   "source": [
    "# запускаем критерий Харке-Бера\n",
    "\n",
    "print(stats.jarque_bera(sample1))\n",
    "print(stats.jarque_bera(sample2))"
   ]
  },
  {
   "cell_type": "markdown",
   "id": "severe-subdivision",
   "metadata": {},
   "source": [
    "#### 3. В файле anorexia.txt записан вес пациентов до начала терапии анорексии и после ее окончания. Была ли терапия в эффективна?"
   ]
  },
  {
   "cell_type": "code",
   "execution_count": 24,
   "id": "average-veteran",
   "metadata": {},
   "outputs": [],
   "source": [
    "data = pd.read_csv(\"../HW3_Data/anorexia.txt\", sep = \"\\t\")"
   ]
  },
  {
   "cell_type": "code",
   "execution_count": 25,
   "id": "exotic-sarah",
   "metadata": {},
   "outputs": [
    {
     "data": {
      "text/html": [
       "<div>\n",
       "<style scoped>\n",
       "    .dataframe tbody tr th:only-of-type {\n",
       "        vertical-align: middle;\n",
       "    }\n",
       "\n",
       "    .dataframe tbody tr th {\n",
       "        vertical-align: top;\n",
       "    }\n",
       "\n",
       "    .dataframe thead th {\n",
       "        text-align: right;\n",
       "    }\n",
       "</style>\n",
       "<table border=\"1\" class=\"dataframe\">\n",
       "  <thead>\n",
       "    <tr style=\"text-align: right;\">\n",
       "      <th></th>\n",
       "      <th>Before</th>\n",
       "      <th>After</th>\n",
       "    </tr>\n",
       "  </thead>\n",
       "  <tbody>\n",
       "    <tr>\n",
       "      <th>0</th>\n",
       "      <td>80.5</td>\n",
       "      <td>82.2</td>\n",
       "    </tr>\n",
       "    <tr>\n",
       "      <th>1</th>\n",
       "      <td>84.9</td>\n",
       "      <td>85.6</td>\n",
       "    </tr>\n",
       "    <tr>\n",
       "      <th>2</th>\n",
       "      <td>81.5</td>\n",
       "      <td>81.4</td>\n",
       "    </tr>\n",
       "    <tr>\n",
       "      <th>3</th>\n",
       "      <td>82.6</td>\n",
       "      <td>81.9</td>\n",
       "    </tr>\n",
       "    <tr>\n",
       "      <th>4</th>\n",
       "      <td>79.9</td>\n",
       "      <td>76.4</td>\n",
       "    </tr>\n",
       "  </tbody>\n",
       "</table>\n",
       "</div>"
      ],
      "text/plain": [
       "   Before  After\n",
       "0    80.5   82.2\n",
       "1    84.9   85.6\n",
       "2    81.5   81.4\n",
       "3    82.6   81.9\n",
       "4    79.9   76.4"
      ]
     },
     "execution_count": 25,
     "metadata": {},
     "output_type": "execute_result"
    }
   ],
   "source": [
    "data['Before'] = data['Before'].apply(lambda x: float(str(x).strip('\\n')))\n",
    "data['After'] = data['After'].apply(lambda x: float(str(x).strip('\\n')))\n",
    "data.head()"
   ]
  },
  {
   "cell_type": "code",
   "execution_count": 26,
   "id": "applicable-vacuum",
   "metadata": {},
   "outputs": [],
   "source": [
    "sample1 = data['Before']\n",
    "sample2 = data['After']"
   ]
  },
  {
   "cell_type": "code",
   "execution_count": 27,
   "id": "bibliographic-picnic",
   "metadata": {},
   "outputs": [
    {
     "data": {
      "image/png": "[encoded data removed]",
      "text/plain": [
       "<Figure size 576x360 with 1 Axes>"
      ]
     },
     "metadata": {
      "needs_background": "light"
     },
     "output_type": "display_data"
    }
   ],
   "source": [
    "data.boxplot(figsize=(8,5))\n",
    "plt.show()"
   ]
  },
  {
   "cell_type": "markdown",
   "id": "romance-colonial",
   "metadata": {},
   "source": [
    "После процедур  вес пациентов уыеличился. Также увеличился разброс данных."
   ]
  },
  {
   "cell_type": "code",
   "execution_count": 28,
   "id": "popular-chicago",
   "metadata": {},
   "outputs": [
    {
     "data": {
      "image/png": "[encoded data removed]",
      "text/plain": [
       "<Figure size 1152x288 with 2 Axes>"
      ]
     },
     "metadata": {
      "needs_background": "light"
     },
     "output_type": "display_data"
    }
   ],
   "source": [
    "# давайте сначала посмотрим на гистограммы для sample1 и sample2\n",
    "\n",
    "fig, (ax1, ax2) = plt.subplots(ncols=2,figsize=(16,4)) \n",
    "\n",
    "ax1.hist(sample1, bins=20)\n",
    "ax2.hist(sample2, bins=20)\n",
    "\n",
    "plt.show()"
   ]
  },
  {
   "cell_type": "code",
   "execution_count": 29,
   "id": "experienced-survival",
   "metadata": {},
   "outputs": [
    {
     "name": "stderr",
     "output_type": "stream",
     "text": [
      "/Users/a19028558/Desktop/transfer_accounts/akovyaz/learning_myself/env_school/lib/python3.8/site-packages/statsmodels/graphics/gofplots.py:993: UserWarning: marker is redundantly defined by the 'marker' keyword argument and the fmt string \"bo\" (-> marker='o'). The keyword argument will take precedence.\n",
      "  ax.plot(x, y, fmt, **plot_style)\n",
      "/Users/a19028558/Desktop/transfer_accounts/akovyaz/learning_myself/env_school/lib/python3.8/site-packages/statsmodels/graphics/gofplots.py:993: UserWarning: marker is redundantly defined by the 'marker' keyword argument and the fmt string \"bo\" (-> marker='o'). The keyword argument will take precedence.\n",
      "  ax.plot(x, y, fmt, **plot_style)\n"
     ]
    },
    {
     "data": {
      "image/png": "[encoded data removed]",
      "text/plain": [
       "<Figure size 1152x288 with 2 Axes>"
      ]
     },
     "metadata": {
      "needs_background": "light"
     },
     "output_type": "display_data"
    }
   ],
   "source": [
    "# давайте сначала посмотрим на гистограммы для sample1 и sample2\n",
    "\n",
    "fig, (ax1, ax2) = plt.subplots(ncols=2,figsize=(16,4)) \n",
    "\n",
    "qqplot(sample1, line='r',ax=ax1)\n",
    "ax1.set_title(\"Before\")\n",
    "\n",
    "qqplot(sample2, line='r',ax=ax2)\n",
    "ax2.set_title(\"After\")\n",
    "\n",
    "plt.show()"
   ]
  },
  {
   "cell_type": "code",
   "execution_count": 30,
   "id": "spanish-crazy",
   "metadata": {},
   "outputs": [
    {
     "data": {
      "text/plain": [
       "(-3.5, 0.26493089646101)"
      ]
     },
     "execution_count": 30,
     "metadata": {},
     "output_type": "execute_result"
    }
   ],
   "source": [
    "# Критерий знаков\n",
    "from statsmodels.stats.descriptivestats import sign_test\n",
    "sign_test(sample1-sample2)"
   ]
  },
  {
   "cell_type": "markdown",
   "id": "popular-shoulder",
   "metadata": {},
   "source": [
    "На уровне значимости 5% принимаем гипотезу"
   ]
  },
  {
   "cell_type": "code",
   "execution_count": 31,
   "id": "extraordinary-stanford",
   "metadata": {},
   "outputs": [
    {
     "data": {
      "text/plain": [
       "WilcoxonResult(statistic=131.5, pvalue=0.06291972262602667)"
      ]
     },
     "execution_count": 31,
     "metadata": {},
     "output_type": "execute_result"
    }
   ],
   "source": [
    "# Критерий знаковых рангов Уилкоксона\n",
    "stats.wilcoxon(sample1,sample2)"
   ]
  },
  {
   "cell_type": "markdown",
   "id": "formed-partner",
   "metadata": {},
   "source": [
    "Пограничное значение. Необходимо увеличить выборки и отвергнуть гипотезу."
   ]
  },
  {
   "cell_type": "markdown",
   "id": "infrared-moral",
   "metadata": {},
   "source": [
    "Терапия оказалась эффективна, т к вес некоторых пациентов увеличился, однако медианный изменился незначительно."
   ]
  },
  {
   "cell_type": "markdown",
   "id": "pointed-mexican",
   "metadata": {},
   "source": [
    "#### 4. В файле seattle.txt записаны цены на недвижимость в одном из районов Сиэтла в 2001 году и в 2002 году (объекты недвижимости выбирались случайно). Изменились ли в среднем цены в этом районе за год?"
   ]
  },
  {
   "cell_type": "code",
   "execution_count": 32,
   "id": "senior-madagascar",
   "metadata": {},
   "outputs": [
    {
     "data": {
      "text/html": [
       "<div>\n",
       "<style scoped>\n",
       "    .dataframe tbody tr th:only-of-type {\n",
       "        vertical-align: middle;\n",
       "    }\n",
       "\n",
       "    .dataframe tbody tr th {\n",
       "        vertical-align: top;\n",
       "    }\n",
       "\n",
       "    .dataframe thead th {\n",
       "        text-align: right;\n",
       "    }\n",
       "</style>\n",
       "<table border=\"1\" class=\"dataframe\">\n",
       "  <thead>\n",
       "    <tr style=\"text-align: right;\">\n",
       "      <th></th>\n",
       "      <th>Price</th>\n",
       "      <th>Year</th>\n",
       "    </tr>\n",
       "  </thead>\n",
       "  <tbody>\n",
       "    <tr>\n",
       "      <th>0</th>\n",
       "      <td>142.0</td>\n",
       "      <td>2002</td>\n",
       "    </tr>\n",
       "    <tr>\n",
       "      <th>1</th>\n",
       "      <td>232.0</td>\n",
       "      <td>2002</td>\n",
       "    </tr>\n",
       "    <tr>\n",
       "      <th>2</th>\n",
       "      <td>132.5</td>\n",
       "      <td>2002</td>\n",
       "    </tr>\n",
       "    <tr>\n",
       "      <th>3</th>\n",
       "      <td>200.0</td>\n",
       "      <td>2002</td>\n",
       "    </tr>\n",
       "    <tr>\n",
       "      <th>4</th>\n",
       "      <td>362.0</td>\n",
       "      <td>2002</td>\n",
       "    </tr>\n",
       "  </tbody>\n",
       "</table>\n",
       "</div>"
      ],
      "text/plain": [
       "   Price  Year\n",
       "0  142.0  2002\n",
       "1  232.0  2002\n",
       "2  132.5  2002\n",
       "3  200.0  2002\n",
       "4  362.0  2002"
      ]
     },
     "execution_count": 32,
     "metadata": {},
     "output_type": "execute_result"
    }
   ],
   "source": [
    "data = pd.read_csv(\"../HW3_Data/seattle.txt\", sep = \"\\t\")\n",
    "data.head()"
   ]
  },
  {
   "cell_type": "code",
   "execution_count": 33,
   "id": "adapted-center",
   "metadata": {},
   "outputs": [
    {
     "data": {
      "image/png": "[encoded data removed]",
      "text/plain": [
       "<Figure size 576x360 with 1 Axes>"
      ]
     },
     "metadata": {
      "needs_background": "light"
     },
     "output_type": "display_data"
    }
   ],
   "source": [
    "data.boxplot(column='Price', by='Year',figsize=(8,5))\n",
    "plt.show()"
   ]
  },
  {
   "cell_type": "code",
   "execution_count": 34,
   "id": "amber-personality",
   "metadata": {},
   "outputs": [],
   "source": [
    "sample1 = data[data['Year'] == 2001]['Price']\n",
    "sample2 = data[data['Year'] == 2002]['Price']"
   ]
  },
  {
   "cell_type": "code",
   "execution_count": 35,
   "id": "broke-popularity",
   "metadata": {},
   "outputs": [
    {
     "data": {
      "image/png": "[encoded data removed]",
      "text/plain": [
       "<Figure size 1152x288 with 2 Axes>"
      ]
     },
     "metadata": {
      "needs_background": "light"
     },
     "output_type": "display_data"
    }
   ],
   "source": [
    "# давайте сначала посмотрим на гистограммы для sample1 и sample2\n",
    "\n",
    "fig, (ax1, ax2) = plt.subplots(ncols=2,figsize=(16,4)) \n",
    "\n",
    "ax1.hist(sample1, bins=20)\n",
    "ax2.hist(sample2, bins=20)\n",
    "\n",
    "plt.show()"
   ]
  },
  {
   "cell_type": "code",
   "execution_count": 36,
   "id": "computational-return",
   "metadata": {},
   "outputs": [
    {
     "name": "stderr",
     "output_type": "stream",
     "text": [
      "/Users/a19028558/Desktop/transfer_accounts/akovyaz/learning_myself/env_school/lib/python3.8/site-packages/statsmodels/graphics/gofplots.py:993: UserWarning: marker is redundantly defined by the 'marker' keyword argument and the fmt string \"bo\" (-> marker='o'). The keyword argument will take precedence.\n",
      "  ax.plot(x, y, fmt, **plot_style)\n",
      "/Users/a19028558/Desktop/transfer_accounts/akovyaz/learning_myself/env_school/lib/python3.8/site-packages/statsmodels/graphics/gofplots.py:993: UserWarning: marker is redundantly defined by the 'marker' keyword argument and the fmt string \"bo\" (-> marker='o'). The keyword argument will take precedence.\n",
      "  ax.plot(x, y, fmt, **plot_style)\n"
     ]
    },
    {
     "data": {
      "image/png": "[encoded data removed]",
      "text/plain": [
       "<Figure size 1152x288 with 2 Axes>"
      ]
     },
     "metadata": {
      "needs_background": "light"
     },
     "output_type": "display_data"
    }
   ],
   "source": [
    "# давайте сначала посмотрим на гистограммы для sample1 и sample2\n",
    "\n",
    "fig, (ax1, ax2) = plt.subplots(ncols=2,figsize=(16,4)) \n",
    "\n",
    "qqplot(sample1, line='r',ax=ax1)\n",
    "ax1.set_title(\"Before\")\n",
    "\n",
    "qqplot(sample2, line='r',ax=ax2)\n",
    "ax2.set_title(\"After\")\n",
    "\n",
    "plt.show()"
   ]
  },
  {
   "cell_type": "code",
   "execution_count": 37,
   "id": "fatty-prescription",
   "metadata": {},
   "outputs": [
    {
     "data": {
      "text/plain": [
       "KstestResult(statistic=0.14, pvalue=0.7166468440414822)"
      ]
     },
     "execution_count": 37,
     "metadata": {},
     "output_type": "execute_result"
    }
   ],
   "source": [
    "# Критерий Колмогорова-Смирнова\n",
    "stats.ks_2samp(sample1,sample2)"
   ]
  },
  {
   "cell_type": "markdown",
   "id": "legitimate-thing",
   "metadata": {},
   "source": [
    "Двусторонняя альтернатива показывает по p-value, что выборки однородны."
   ]
  },
  {
   "cell_type": "code",
   "execution_count": 38,
   "id": "every-bookmark",
   "metadata": {},
   "outputs": [
    {
     "data": {
      "text/plain": [
       "MannwhitneyuResult(statistic=1295.5, pvalue=0.7563872675701748)"
      ]
     },
     "execution_count": 38,
     "metadata": {},
     "output_type": "execute_result"
    }
   ],
   "source": [
    "# Критерий Манна-Уитни\n",
    "stats.mannwhitneyu(sample1,sample2, alternative='two-sided')"
   ]
  },
  {
   "cell_type": "markdown",
   "id": "incoming-vienna",
   "metadata": {},
   "source": [
    "Принимаем гипотезу. Потому что pvalue > 0.01"
   ]
  },
  {
   "cell_type": "code",
   "execution_count": 39,
   "id": "alternate-tobago",
   "metadata": {},
   "outputs": [
    {
     "data": {
      "text/plain": [
       "Ttest_indResult(statistic=-0.8057258725189664, pvalue=0.42235167114691463)"
      ]
     },
     "execution_count": 39,
     "metadata": {},
     "output_type": "execute_result"
    }
   ],
   "source": [
    "# Критерий Стьюдента (t-тест)\n",
    "stats.ttest_ind(sample1, sample2)"
   ]
  },
  {
   "cell_type": "markdown",
   "id": "personalized-nepal",
   "metadata": {},
   "source": [
    "Гипотеза о нормальности данных не выполняется"
   ]
  },
  {
   "cell_type": "code",
   "execution_count": 40,
   "id": "connected-cleveland",
   "metadata": {},
   "outputs": [
    {
     "data": {
      "text/plain": [
       "ShapiroResult(statistic=nan, pvalue=1.0)"
      ]
     },
     "execution_count": 40,
     "metadata": {},
     "output_type": "execute_result"
    }
   ],
   "source": [
    "# проверим нормальность и с помощью критерия Шапиро-Уилка\n",
    "stats.shapiro(sample1-sample2)"
   ]
  },
  {
   "cell_type": "code",
   "execution_count": 41,
   "id": "historic-panel",
   "metadata": {},
   "outputs": [
    {
     "data": {
      "text/plain": [
       "Ttest_relResult(statistic=-0.9054576456583359, pvalue=0.369653808711352)"
      ]
     },
     "execution_count": 41,
     "metadata": {},
     "output_type": "execute_result"
    }
   ],
   "source": [
    "# критерий Стьюдента\n",
    "stats.ttest_rel(sample1, sample2)"
   ]
  },
  {
   "cell_type": "markdown",
   "id": "unusual-binding",
   "metadata": {},
   "source": [
    "Критерий Стьюдента не подтверждает гипотезу о нормальности данных."
   ]
  },
  {
   "cell_type": "markdown",
   "id": "republican-excellence",
   "metadata": {},
   "source": [
    "Медианное значение не изменилось, однако разброс цен недвижимости увеличился."
   ]
  },
  {
   "cell_type": "markdown",
   "id": "portable-theology",
   "metadata": {},
   "source": [
    "#### 5.В рамках исследования эффективности препарата метилфенидат пациенты с синдромом дефицита внимания и гиперактивности в течение недели принимали либо метилфенидат, либо плацебо. В конце недели каждый пациент проходили тест на способность к по давлению импульсивных поведенческих реакций. На втором этапе плацебо и препарат менялись, и после недельного курса каждый испытуемые проходили второй тест. Был ли эффект от применения препарата? Данные находятся в файле methylphenidate.txt."
   ]
  },
  {
   "cell_type": "code",
   "execution_count": 121,
   "id": "periodic-vermont",
   "metadata": {},
   "outputs": [
    {
     "data": {
      "text/html": [
       "<div>\n",
       "<style scoped>\n",
       "    .dataframe tbody tr th:only-of-type {\n",
       "        vertical-align: middle;\n",
       "    }\n",
       "\n",
       "    .dataframe tbody tr th {\n",
       "        vertical-align: top;\n",
       "    }\n",
       "\n",
       "    .dataframe thead th {\n",
       "        text-align: right;\n",
       "    }\n",
       "</style>\n",
       "<table border=\"1\" class=\"dataframe\">\n",
       "  <thead>\n",
       "    <tr style=\"text-align: right;\">\n",
       "      <th></th>\n",
       "      <th>Placebo</th>\n",
       "      <th>Methylphenidate</th>\n",
       "    </tr>\n",
       "  </thead>\n",
       "  <tbody>\n",
       "    <tr>\n",
       "      <th>0</th>\n",
       "      <td>57</td>\n",
       "      <td>62</td>\n",
       "    </tr>\n",
       "    <tr>\n",
       "      <th>1</th>\n",
       "      <td>27</td>\n",
       "      <td>49</td>\n",
       "    </tr>\n",
       "    <tr>\n",
       "      <th>2</th>\n",
       "      <td>32</td>\n",
       "      <td>30</td>\n",
       "    </tr>\n",
       "    <tr>\n",
       "      <th>3</th>\n",
       "      <td>31</td>\n",
       "      <td>34</td>\n",
       "    </tr>\n",
       "    <tr>\n",
       "      <th>4</th>\n",
       "      <td>34</td>\n",
       "      <td>38</td>\n",
       "    </tr>\n",
       "  </tbody>\n",
       "</table>\n",
       "</div>"
      ],
      "text/plain": [
       "   Placebo  Methylphenidate\n",
       "0       57               62\n",
       "1       27               49\n",
       "2       32               30\n",
       "3       31               34\n",
       "4       34               38"
      ]
     },
     "execution_count": 121,
     "metadata": {},
     "output_type": "execute_result"
    }
   ],
   "source": [
    "data = pd.read_csv(\"../HW3_Data/methylphenidate.txt\", sep = \" \")\n",
    "data.head()"
   ]
  },
  {
   "cell_type": "code",
   "execution_count": 122,
   "id": "narrative-glory",
   "metadata": {},
   "outputs": [],
   "source": [
    "sample1 = data.Placebo\n",
    "sample2 = data.Methylphenidate"
   ]
  },
  {
   "cell_type": "code",
   "execution_count": 123,
   "id": "injured-mills",
   "metadata": {},
   "outputs": [
    {
     "data": {
      "image/png": "[encoded data removed]",
      "text/plain": [
       "<Figure size 576x360 with 1 Axes>"
      ]
     },
     "metadata": {
      "needs_background": "light"
     },
     "output_type": "display_data"
    }
   ],
   "source": [
    "data.boxplot(figsize=(8,5))\n",
    "plt.show()"
   ]
  },
  {
   "cell_type": "code",
   "execution_count": 124,
   "id": "synthetic-rabbit",
   "metadata": {},
   "outputs": [
    {
     "data": {
      "image/png": "[encoded data removed]",
      "text/plain": [
       "<Figure size 1152x288 with 2 Axes>"
      ]
     },
     "metadata": {
      "needs_background": "light"
     },
     "output_type": "display_data"
    }
   ],
   "source": [
    "# давайте сначала посмотрим на гистограммы для sample1 и sample2\n",
    "\n",
    "fig, (ax1, ax2) = plt.subplots(ncols=2,figsize=(16,4)) \n",
    "\n",
    "ax1.hist(sample1, bins=20)\n",
    "ax2.hist(sample2, bins=20)\n",
    "\n",
    "plt.show()"
   ]
  },
  {
   "cell_type": "code",
   "execution_count": 125,
   "id": "affiliated-chaos",
   "metadata": {},
   "outputs": [
    {
     "name": "stderr",
     "output_type": "stream",
     "text": [
      "/Users/a19028558/Desktop/transfer_accounts/akovyaz/learning_myself/env_school/lib/python3.8/site-packages/statsmodels/graphics/gofplots.py:993: UserWarning: marker is redundantly defined by the 'marker' keyword argument and the fmt string \"bo\" (-> marker='o'). The keyword argument will take precedence.\n",
      "  ax.plot(x, y, fmt, **plot_style)\n",
      "/Users/a19028558/Desktop/transfer_accounts/akovyaz/learning_myself/env_school/lib/python3.8/site-packages/statsmodels/graphics/gofplots.py:993: UserWarning: marker is redundantly defined by the 'marker' keyword argument and the fmt string \"bo\" (-> marker='o'). The keyword argument will take precedence.\n",
      "  ax.plot(x, y, fmt, **plot_style)\n"
     ]
    },
    {
     "data": {
      "image/png": "[encoded data removed]",
      "text/plain": [
       "<Figure size 1152x288 with 2 Axes>"
      ]
     },
     "metadata": {
      "needs_background": "light"
     },
     "output_type": "display_data"
    }
   ],
   "source": [
    "# давайте сначала посмотрим на гистограммы для sample1 и sample2\n",
    "\n",
    "fig, (ax1, ax2) = plt.subplots(ncols=2,figsize=(16,4)) \n",
    "\n",
    "qqplot(sample1, line='r',ax=ax1)\n",
    "ax1.set_title(\"Placebo\")\n",
    "\n",
    "qqplot(sample2, line='r',ax=ax2)\n",
    "ax2.set_title(\"Methylphenidate\")\n",
    "\n",
    "plt.show()"
   ]
  },
  {
   "cell_type": "markdown",
   "id": "celtic-adolescent",
   "metadata": {},
   "source": [
    "Мы видим эффект: медианное значение принимавших Methylphenidate подросло."
   ]
  },
  {
   "cell_type": "code",
   "execution_count": 126,
   "id": "deadly-korean",
   "metadata": {},
   "outputs": [
    {
     "data": {
      "text/plain": [
       "array([[[57, 27, 32, 31, 34, 38, 71, 33, 34, 53, 36, 42, 26, 52, 36, 55,\n",
       "         36, 42, 36, 54, 34, 29, 33, 33],\n",
       "        [62, 49, 30, 34, 38, 36, 77, 51, 45, 42, 43, 57, 36, 58, 35, 60,\n",
       "         33, 49, 33, 59, 35, 37, 45, 29]]])"
      ]
     },
     "execution_count": 126,
     "metadata": {},
     "output_type": "execute_result"
    }
   ],
   "source": [
    "sample = np.array([[sample1, sample2]])\n",
    "sample"
   ]
  },
  {
   "cell_type": "code",
   "execution_count": 130,
   "id": "prescribed-plymouth",
   "metadata": {},
   "outputs": [
    {
     "data": {
      "text/plain": [
       "(16.20675639031168,\n",
       " 0.8462758394957708,\n",
       " 23,\n",
       " array([[[56.00690676, 35.76911692, 29.18006907, 30.59200789,\n",
       "          33.88653182, 34.82782437, 69.65564874, 39.53428712,\n",
       "          37.18105575, 44.71139615, 37.18105575, 46.59398125,\n",
       "          29.18006907, 51.77109028, 33.41588555, 54.12432166,\n",
       "          32.47459299, 42.82881105, 32.47459299, 53.18302911,\n",
       "          32.47459299, 31.06265417, 36.71040947, 29.18006907],\n",
       "         [62.99309324, 40.23088308, 32.81993093, 34.40799211,\n",
       "          38.11346818, 39.17217563, 78.34435126, 44.46571288,\n",
       "          41.81894425, 50.28860385, 41.81894425, 52.40601875,\n",
       "          32.81993093, 58.22890972, 37.58411445, 60.87567834,\n",
       "          36.52540701, 48.17118895, 36.52540701, 59.81697089,\n",
       "          36.52540701, 34.93734583, 41.28959053, 32.81993093]]]))"
      ]
     },
     "execution_count": 130,
     "metadata": {},
     "output_type": "execute_result"
    }
   ],
   "source": [
    "stats.chi2_contingency(sample, correction=False)\n"
   ]
  },
  {
   "cell_type": "markdown",
   "id": "atomic-nancy",
   "metadata": {},
   "source": [
    "Критерий хи-квадрат признал различие значимым на уровне  ≈ 85%."
   ]
  },
  {
   "cell_type": "markdown",
   "id": "engaged-brown",
   "metadata": {},
   "source": [
    "#### 6. В файле mtcars.csv находятся данные из американского журнала Motor Trend 1974 года. Они описывают расход топлива в зависимости от 10 характеристик автомобиля (все автомобили 1973-1974 года). Влияет ли тип двигателя на расход топлива? А тип коробки передач?"
   ]
  },
  {
   "cell_type": "code",
   "execution_count": 48,
   "id": "racial-finland",
   "metadata": {},
   "outputs": [
    {
     "data": {
      "text/html": [
       "<div>\n",
       "<style scoped>\n",
       "    .dataframe tbody tr th:only-of-type {\n",
       "        vertical-align: middle;\n",
       "    }\n",
       "\n",
       "    .dataframe tbody tr th {\n",
       "        vertical-align: top;\n",
       "    }\n",
       "\n",
       "    .dataframe thead th {\n",
       "        text-align: right;\n",
       "    }\n",
       "</style>\n",
       "<table border=\"1\" class=\"dataframe\">\n",
       "  <thead>\n",
       "    <tr style=\"text-align: right;\">\n",
       "      <th></th>\n",
       "      <th>Unnamed: 0</th>\n",
       "      <th>mpg</th>\n",
       "      <th>cyl</th>\n",
       "      <th>disp</th>\n",
       "      <th>hp</th>\n",
       "      <th>drat</th>\n",
       "      <th>wt</th>\n",
       "      <th>qsec</th>\n",
       "      <th>vs</th>\n",
       "      <th>am</th>\n",
       "      <th>gear</th>\n",
       "      <th>carb</th>\n",
       "    </tr>\n",
       "  </thead>\n",
       "  <tbody>\n",
       "    <tr>\n",
       "      <th>0</th>\n",
       "      <td>Mazda RX4</td>\n",
       "      <td>21.0</td>\n",
       "      <td>6</td>\n",
       "      <td>160.0</td>\n",
       "      <td>110</td>\n",
       "      <td>3.90</td>\n",
       "      <td>2.620</td>\n",
       "      <td>16.46</td>\n",
       "      <td>0</td>\n",
       "      <td>1</td>\n",
       "      <td>4</td>\n",
       "      <td>4</td>\n",
       "    </tr>\n",
       "    <tr>\n",
       "      <th>1</th>\n",
       "      <td>Mazda RX4 Wag</td>\n",
       "      <td>21.0</td>\n",
       "      <td>6</td>\n",
       "      <td>160.0</td>\n",
       "      <td>110</td>\n",
       "      <td>3.90</td>\n",
       "      <td>2.875</td>\n",
       "      <td>17.02</td>\n",
       "      <td>0</td>\n",
       "      <td>1</td>\n",
       "      <td>4</td>\n",
       "      <td>4</td>\n",
       "    </tr>\n",
       "    <tr>\n",
       "      <th>2</th>\n",
       "      <td>Datsun 710</td>\n",
       "      <td>22.8</td>\n",
       "      <td>4</td>\n",
       "      <td>108.0</td>\n",
       "      <td>93</td>\n",
       "      <td>3.85</td>\n",
       "      <td>2.320</td>\n",
       "      <td>18.61</td>\n",
       "      <td>1</td>\n",
       "      <td>1</td>\n",
       "      <td>4</td>\n",
       "      <td>1</td>\n",
       "    </tr>\n",
       "    <tr>\n",
       "      <th>3</th>\n",
       "      <td>Hornet 4 Drive</td>\n",
       "      <td>21.4</td>\n",
       "      <td>6</td>\n",
       "      <td>258.0</td>\n",
       "      <td>110</td>\n",
       "      <td>3.08</td>\n",
       "      <td>3.215</td>\n",
       "      <td>19.44</td>\n",
       "      <td>1</td>\n",
       "      <td>0</td>\n",
       "      <td>3</td>\n",
       "      <td>1</td>\n",
       "    </tr>\n",
       "    <tr>\n",
       "      <th>4</th>\n",
       "      <td>Hornet Sportabout</td>\n",
       "      <td>18.7</td>\n",
       "      <td>8</td>\n",
       "      <td>360.0</td>\n",
       "      <td>175</td>\n",
       "      <td>3.15</td>\n",
       "      <td>3.440</td>\n",
       "      <td>17.02</td>\n",
       "      <td>0</td>\n",
       "      <td>0</td>\n",
       "      <td>3</td>\n",
       "      <td>2</td>\n",
       "    </tr>\n",
       "  </tbody>\n",
       "</table>\n",
       "</div>"
      ],
      "text/plain": [
       "          Unnamed: 0   mpg  cyl   disp   hp  drat     wt   qsec  vs  am  gear  \\\n",
       "0          Mazda RX4  21.0    6  160.0  110  3.90  2.620  16.46   0   1     4   \n",
       "1      Mazda RX4 Wag  21.0    6  160.0  110  3.90  2.875  17.02   0   1     4   \n",
       "2         Datsun 710  22.8    4  108.0   93  3.85  2.320  18.61   1   1     4   \n",
       "3     Hornet 4 Drive  21.4    6  258.0  110  3.08  3.215  19.44   1   0     3   \n",
       "4  Hornet Sportabout  18.7    8  360.0  175  3.15  3.440  17.02   0   0     3   \n",
       "\n",
       "   carb  \n",
       "0     4  \n",
       "1     4  \n",
       "2     1  \n",
       "3     1  \n",
       "4     2  "
      ]
     },
     "execution_count": 48,
     "metadata": {},
     "output_type": "execute_result"
    }
   ],
   "source": [
    "data = pd.read_csv(\"../HW3_Data/mtcars.csv\", sep = \",\")\n",
    "data.head()"
   ]
  },
  {
   "cell_type": "code",
   "execution_count": 93,
   "id": "favorite-huntington",
   "metadata": {},
   "outputs": [
    {
     "data": {
      "image/png": "[encoded data removed]",
      "text/plain": [
       "<Figure size 504x288 with 1 Axes>"
      ]
     },
     "metadata": {
      "needs_background": "light"
     },
     "output_type": "display_data"
    }
   ],
   "source": [
    "\n",
    "# для количественных признаков выведем матрицу диаграмм рассеяния\n",
    "\n",
    "data[\"mpg\"].hist(figsize=(7,4), grid=False, bins = 5)\n",
    "plt.show()"
   ]
  },
  {
   "cell_type": "code",
   "execution_count": 56,
   "id": "assigned-breath",
   "metadata": {},
   "outputs": [
    {
     "name": "stdout",
     "output_type": "stream",
     "text": [
      "Тип двигателя\n",
      "0    18\n",
      "1    14\n",
      "Name: vs, dtype: int64\n",
      "Тип коробки\n",
      "0    19\n",
      "1    13\n",
      "Name: am, dtype: int64\n"
     ]
    }
   ],
   "source": [
    "# а для бинарных признаков просто оценим сбалансированность\n",
    "\n",
    "print(\"Тип двигателя\")\n",
    "print(data.vs.value_counts())\n",
    "print(\"Тип коробки\")\n",
    "print(data.am.value_counts())"
   ]
  },
  {
   "cell_type": "code",
   "execution_count": 88,
   "id": "orange-final",
   "metadata": {},
   "outputs": [],
   "source": [
    "# подготовим данные\n",
    "df = data[data[\"mpg\"].apply(lambda x: True if x < 30 else False)]"
   ]
  },
  {
   "cell_type": "code",
   "execution_count": 91,
   "id": "incorrect-belize",
   "metadata": {},
   "outputs": [
    {
     "data": {
      "image/png": "[encoded data removed]",
      "text/plain": [
       "<Figure size 504x288 with 1 Axes>"
      ]
     },
     "metadata": {
      "needs_background": "light"
     },
     "output_type": "display_data"
    }
   ],
   "source": [
    "df[\"mpg\"].hist(figsize=(7,4), grid=False, bins = 5)\n",
    "plt.show()"
   ]
  },
  {
   "cell_type": "code",
   "execution_count": 99,
   "id": "promising-spiritual",
   "metadata": {},
   "outputs": [
    {
     "data": {
      "text/plain": [
       "(0.5769031287806731, 0.001309978309428573)"
      ]
     },
     "execution_count": 99,
     "metadata": {},
     "output_type": "execute_result"
    }
   ],
   "source": [
    "# коэффициент корреляции Пирсона\n",
    "# расход топлива и тип двигателя\n",
    "\n",
    "stats.pearsonr(df[\"mpg\"],df['vs'])"
   ]
  },
  {
   "cell_type": "code",
   "execution_count": 95,
   "id": "casual-onion",
   "metadata": {},
   "outputs": [
    {
     "data": {
      "text/plain": [
       "SpearmanrResult(correlation=0.6233530933165956, pvalue=0.00039466906715972445)"
      ]
     },
     "execution_count": 95,
     "metadata": {},
     "output_type": "execute_result"
    }
   ],
   "source": [
    "# коэффициент корреляции Спирмена\n",
    "# расход топлива и тип двигателя\n",
    "\n",
    "stats.spearmanr(df[\"mpg\"],df['vs'])"
   ]
  },
  {
   "cell_type": "code",
   "execution_count": 101,
   "id": "likely-logistics",
   "metadata": {},
   "outputs": [
    {
     "data": {
      "text/plain": [
       "KendalltauResult(correlation=0.5217062577301893, pvalue=0.0011993372540941214)"
      ]
     },
     "execution_count": 101,
     "metadata": {},
     "output_type": "execute_result"
    }
   ],
   "source": [
    "# коэффициент корреляции Кендалла\n",
    "# расход топлива и тип двигателя\n",
    "\n",
    "stats.kendalltau(df[\"mpg\"],df['vs'])"
   ]
  },
  {
   "cell_type": "markdown",
   "id": "duplicate-personal",
   "metadata": {},
   "source": [
    "Значение коэффициента корреляции больше 0.5. По значению pvalue отвергаем гипотезу, что коэффициент корреляции равен 0 на уровне значимости 5%\n",
    "Расход топлива и тип двигателя положительно коррелированы."
   ]
  },
  {
   "cell_type": "code",
   "execution_count": 102,
   "id": "considered-integrity",
   "metadata": {},
   "outputs": [
    {
     "data": {
      "text/plain": [
       "(0.44105444620800094, 0.018806996170999752)"
      ]
     },
     "execution_count": 102,
     "metadata": {},
     "output_type": "execute_result"
    }
   ],
   "source": [
    "# коэффициент корреляции Пирсона\n",
    "# расход топлива и тип коробки передач\n",
    "\n",
    "stats.pearsonr(df[\"mpg\"],df['am'])"
   ]
  },
  {
   "cell_type": "code",
   "execution_count": 103,
   "id": "strange-rating",
   "metadata": {},
   "outputs": [
    {
     "data": {
      "text/plain": [
       "SpearmanrResult(correlation=0.4121523689776928, pvalue=0.029302525093091544)"
      ]
     },
     "execution_count": 103,
     "metadata": {},
     "output_type": "execute_result"
    }
   ],
   "source": [
    "# коэффициент корреляции Спирмена\n",
    "# расход топлива и тип коробки передач\n",
    "\n",
    "stats.spearmanr(df[\"mpg\"],df['am'])"
   ]
  },
  {
   "cell_type": "code",
   "execution_count": 104,
   "id": "threatened-sweet",
   "metadata": {},
   "outputs": [
    {
     "data": {
      "text/plain": [
       "KendalltauResult(correlation=0.3449448993506097, pvalue=0.03222515778130683)"
      ]
     },
     "execution_count": 104,
     "metadata": {},
     "output_type": "execute_result"
    }
   ],
   "source": [
    "# коэффициент корреляции Кендалла\n",
    "# расход топлива и тип коробки передач\n",
    "\n",
    "stats.kendalltau(df[\"mpg\"],df['am'])"
   ]
  },
  {
   "cell_type": "markdown",
   "id": "driving-mozambique",
   "metadata": {},
   "source": [
    "Значение коэффициента корреляции меньше 0.5 По значению pvalue отвергаем гипотезу, что коэффициент корреляции равен 0 на уровне значимости 5%\n",
    "Расход топлива и тип коробки передач положительно коррелированы, но коэффициент корреляции ниже чем у расход топлива и тип двигателя."
   ]
  },
  {
   "cell_type": "code",
   "execution_count": null,
   "id": "loving-henry",
   "metadata": {},
   "outputs": [],
   "source": []
  },
  {
   "cell_type": "code",
   "execution_count": null,
   "id": "detailed-spencer",
   "metadata": {},
   "outputs": [],
   "source": []
  },
  {
   "cell_type": "code",
   "execution_count": null,
   "id": "powerful-lyric",
   "metadata": {},
   "outputs": [],
   "source": []
  },
  {
   "cell_type": "code",
   "execution_count": null,
   "id": "unique-civilian",
   "metadata": {},
   "outputs": [],
   "source": []
  },
  {
   "cell_type": "code",
   "execution_count": null,
   "id": "inclusive-ridge",
   "metadata": {},
   "outputs": [],
   "source": []
  },
  {
   "cell_type": "code",
   "execution_count": null,
   "id": "bound-plenty",
   "metadata": {},
   "outputs": [],
   "source": []
  },
  {
   "cell_type": "code",
   "execution_count": null,
   "id": "embedded-flower",
   "metadata": {},
   "outputs": [],
   "source": []
  }
 ],
 "metadata": {
  "kernelspec": {
   "display_name": "Python 3",
   "language": "python",
   "name": "python3"
  },
  "language_info": {
   "codemirror_mode": {
    "name": "ipython",
    "version": 3
   },
   "file_extension": ".py",
   "mimetype": "text/x-python",
   "name": "python",
   "nbconvert_exporter": "python",
   "pygments_lexer": "ipython3",
   "version": "3.8.0"
  }
 },
 "nbformat": 4,
 "nbformat_minor": 5
}
